{
 "cells": [
  {
   "cell_type": "markdown",
   "metadata": {},
   "source": [
    "# Домашнее задание 3\n",
    "## Сравнение интересов аудитории телеканалов НТВ и Дождь с помощью тематического моделирования LDA"
   ]
  },
  {
   "cell_type": "markdown",
   "metadata": {},
   "source": [
    "Задача:\n",
    "Сравнить интересы аудитории телеканолов НТВ и Дождь с помощью методов тематического моделирования\n",
    "1. Получить данные по аудитории из социальной сети ВК\n",
    "2. Зарегистрировать приложение, получить app_id, access_token\n",
    "3. Скачать данные по пользователям в каждой из групп (id групп ВК даны ниже, tvrain_id, ntv_id)\n",
    "4. Взять небольшую выборку из каждой совокупности телезрителей(около 1000-2000 человек, т.к. 300k-400k слишком много), с которыми работать дальше\n",
    "5. Обучить LDA модель на их подписках\n",
    "6. По группам, на которые подписаны эти люди, полуичть ключевые слова групп, на которые они подписаны\n",
    "7. Получить распределение интересов людей для каждой совокупности, сравнить на графике"
   ]
  },
  {
   "cell_type": "code",
   "execution_count": 1,
   "metadata": {},
   "outputs": [],
   "source": [
    "import seaborn as sb\n",
    "import sys  \n",
    "import pandas as pd\n",
    "import requests\n",
    "import numpy as np\n",
    "import datetime\n",
    "import time\n",
    "import pickle\n",
    "import matplotlib.pyplot as plt\n",
    "import time\n",
    "%matplotlib inline\n",
    "\n",
    "from bs4 import BeautifulSoup as bs\n",
    "import urllib"
   ]
  },
  {
   "cell_type": "code",
   "execution_count": 2,
   "metadata": {},
   "outputs": [],
   "source": [
    "def load_obj(name):\n",
    "    with open(name + '.pkl', 'rb') as f:\n",
    "        return pickle.load(f)\n",
    "\n",
    "def save_obj(obj, name):\n",
    "    with open(name + '.pkl', 'wb') as f:\n",
    "        pickle.dump(obj, f, pickle.HIGHEST_PROTOCOL)"
   ]
  },
  {
   "cell_type": "markdown",
   "metadata": {},
   "source": [
    "#### Для использования VK API необходимо создать приложение в VK\n",
    "\n",
    "1. Создать приложение по адресу https://vk.com/apps?act=manage (кнопка \"создать приложение\")\n",
    "2. При создании указать название, описание (можно любые), категория  - прочее. Тип - standalone приложение\n",
    "3. В настройках получить **app_id**. App_id потребуется для получения access token\n",
    "4. Авторизовать пользователя (получить access token) можно по адресу: https://vk.com/dev/first_guide, в правилах нас интересует пункт 3 **Авторизация пользователя**\n",
    "5. После того, как ознакомитесь с авторизацией пользователя, скопируйте в адресную строку такой запрос https://oauth.vk.com/authorize?client_id=5490057&display=page&redirect_uri=https://oauth.vk.com/blank.html&scope=friends&response_type=token&v=5.52, где число **5490057** замените на число, которое получите для вашего **app_id**\n",
    "6. Нажмите Enter. Откроется окно с запросом прав. В нем отображаются название приложения, иконки прав доступа, и Ваши имя с фамилией. Нажмите «Разрешить». Вы попадете на новую страницу с предупреждением о том, что токен нельзя копировать и передавать третьим лицам. В адресной строке будет URL https://oauth.vk.com/blank.html, а после # Вы увидите дополнительные параметры — access_token, expires_in и user_id. Токен может выглядеть, например, так: 51eff86578a3bbbcb5c7043a122a69fd04dca057ac821dd7afd7c2d8e35b60172d45a26599c08034cc40a\n",
    "7. Токен — это Ваш ключ доступа. При выполнении определенных условий человек, получивший Ваш токен, может нанести существенный ущерб Вашим данным и данным других людей. Поэтому очень важно не передавать свой токен третьим лицам\n",
    "8. Поле expires_in содержит время жизни токена в секундах. 86400 секунд — это ровно сутки. Через сутки полученный токен перестанет действовать, для продолжения работы нужно будет получить новый по такому же алгоритму"
   ]
  },
  {
   "cell_type": "code",
   "execution_count": 3,
   "metadata": {},
   "outputs": [],
   "source": [
    "# use your own app id and respective tokens\n",
    "\n",
    "# скопируйте сюда ваши app_id и access_token, полученные по методу, описанному выше\n",
    "app_id = \n",
    "access_token=\n",
    "# id групп ВК Дождя и НТВ\n",
    "tvrain_id = 17568841\n",
    "ntv_id = 28658784"
   ]
  },
  {
   "cell_type": "code",
   "execution_count": 4,
   "metadata": {},
   "outputs": [
    {
     "name": "stdout",
     "output_type": "stream",
     "text": [
      "Павел Дуров\n"
     ]
    }
   ],
   "source": [
    "# проверка работы API и авторизации пользователя. Если возникает ошибка, то, возможно, access token необходимо обновить\n",
    "check_id = 1\n",
    "\n",
    "# api call and test\n",
    "def vk_get_response(method, parameters, token):\n",
    "    url = 'https://api.vk.com/method/' + method + '?' + parameters + '&access_token=' + token\n",
    "#     print url\n",
    "    return(requests.get(url).json())\n",
    "\n",
    "answer = vk_get_response(\n",
    "    'users.get', 'user_ids={0}&v=4.9&lang=ru'.format(check_id), access_token\n",
    ")['response']\n",
    "print(answer[0]['first_name'], answer[0]['last_name'])"
   ]
  },
  {
   "cell_type": "markdown",
   "metadata": {},
   "source": [
    "### Получение подписчиков телеканалов НТВ и Дождь в VK"
   ]
  },
  {
   "cell_type": "markdown",
   "metadata": {},
   "source": [
    "Получим объекты, которые содержат всю информацию о подпиичиках соответствующих групп (указанных в domains) и сохраним их на диск. Получим в итоге два файла - **ntv_subs** и **tvrain_subs** в формате **.pkl** - питоновский формат хранения данных"
   ]
  },
  {
   "cell_type": "markdown",
   "metadata": {},
   "source": [
    "domains = ['ntv', 'tvrain']\n",
    "\n",
    "\n",
    "for group_domain in domains:\n",
    "    offset = 0\n",
    "    group_id = group_domain\n",
    "    fields = \"\"\"sex,bdate,city,country,home_town,lists,domain,has_mobile,\n",
    "    contacts,connections,education,universities,followers_count,occupation,last_seen,relation\"\"\"\n",
    "    first_sample = vk_get_response(\n",
    "        'groups.getMembers', 'group_id={0}&offset={1}&fields={2}&v=4.9&lang=ru'.format(\n",
    "            group_id, offset, fields\n",
    "        ), token=access_token\n",
    "    )\n",
    "    community_count = first_sample['response']['count']\n",
    "    community_members = []\n",
    "    for i in range(community_count // 1000 + 1):\n",
    "        offset = i * 1000\n",
    "        try:\n",
    "            answer = vk_get_response(\n",
    "                'groups.getMembers', 'group_id={0}&offset={1}&fields={2}&v=4.9&lang=ru'.format(\n",
    "                    group_id, offset, fields), token=access_token\n",
    "            )\n",
    "            print(\"Offset: \", offset)\n",
    "        except:\n",
    "            print(\"Offset: \", offset, \" Error\")\n",
    "        community_members += answer['response']['users']\n",
    "    save_obj(community_members, '{}_subs'.format(group_domain))"
   ]
  },
  {
   "cell_type": "code",
   "execution_count": 5,
   "metadata": {},
   "outputs": [],
   "source": [
    "community_ntv = load_obj('ntv_subs')\n",
    "community_tvrain = load_obj('tvrain_subs')"
   ]
  },
  {
   "cell_type": "code",
   "execution_count": 6,
   "metadata": {},
   "outputs": [],
   "source": [
    "community_ntv_df = pd.DataFrame(community_ntv)\n",
    "community_tvrain_df = pd.DataFrame(community_tvrain)"
   ]
  },
  {
   "cell_type": "markdown",
   "metadata": {},
   "source": [
    "Сначала получим всех уникальных подписчиков НТВ и Дождя с помощью unique. Далее с помощью numpy.random необходимо выбрать небольшой sample (например, по 1000 из каждой группы) таких людей и объединить их вместе"
   ]
  },
  {
   "cell_type": "code",
   "execution_count": 7,
   "metadata": {},
   "outputs": [],
   "source": [
    "ntv_uids = community_ntv_df.uid.unique().tolist()\n",
    "tvrain_uids = community_tvrain_df.uid.unique().tolist()"
   ]
  },
  {
   "cell_type": "code",
   "execution_count": 18,
   "metadata": {},
   "outputs": [
    {
     "data": {
      "text/plain": [
       "2000"
      ]
     },
     "execution_count": 18,
     "metadata": {},
     "output_type": "execute_result"
    }
   ],
   "source": [
    "# получить общий список людей из двух выборок НТВ и Дождя, всего должно быть в итоге около 2000 человек\n",
    "ntv_1 = np.random.choice(ntv_uids, 1000)\n",
    "tvrain_1 = np.random.choice(tvrain_uids, 1000)\n",
    "uids = np.hstack((ntv_1, tvrain_1))\n",
    "len(uids)"
   ]
  },
  {
   "cell_type": "code",
   "execution_count": 19,
   "metadata": {},
   "outputs": [
    {
     "name": "stdout",
     "output_type": "stream",
     "text": [
      "0 profiles done\n",
      "100 profiles done\n",
      "200 profiles done\n",
      "300 profiles done\n",
      "400 profiles done\n",
      "500 profiles done\n",
      "600 profiles done\n",
      "700 profiles done\n",
      "800 profiles done\n",
      "900 profiles done\n"
     ]
    }
   ],
   "source": [
    "# получить подписки этих пользователей\n",
    "print_counter = 0\n",
    "final_data = []\n",
    "\n",
    "for uid in uids[:1000]:\n",
    "    try:\n",
    "        user_subs = vk_get_response(\n",
    "            'users.getSubscriptions', 'user_id={0}&v=4.9&lang=ru'.format(int(uid)), access_token\n",
    "        )\n",
    "        time.sleep(0.3)\n",
    "        final_data.append(user_subs)\n",
    "    except:\n",
    "        print(\"Error\")\n",
    "    if print_counter % 100 == 0:\n",
    "        print(\"{0} profiles done\".format(print_counter))\n",
    "    print_counter += 1"
   ]
  },
  {
   "cell_type": "code",
   "execution_count": 20,
   "metadata": {},
   "outputs": [
    {
     "name": "stdout",
     "output_type": "stream",
     "text": [
      "Processed 100 users\n",
      "Processed 200 users\n",
      "Processed 200 users\n",
      "Processed 300 users\n",
      "Processed 400 users\n",
      "Processed 500 users\n",
      "Processed 600 users\n",
      "Processed 700 users\n"
     ]
    }
   ],
   "source": [
    "subs_list = []\n",
    "groups_freq_dict = {}\n",
    "top_n = 5\n",
    "\n",
    "for record, uid in zip(final_data, uids):\n",
    "    try:\n",
    "        user_subs = record\n",
    "        if not user_subs.get('response'):\n",
    "            user_subs = vk_get_response(\n",
    "                'users.getSubscriptions', 'user_id={0}&v=4.9&lang=ru'.format(int(uid)), access_token\n",
    "            )\n",
    "        subs_pd = pd.DataFrame(\n",
    "            [\n",
    "                {\n",
    "                    'groups_count': user_subs['response']['groups'].get('count'),\n",
    "                    'groups_list': user_subs['response']['groups'].get('items'),\n",
    "                    'follows_count':user_subs['response']['users'].get('count'),\n",
    "                    'follows_list': user_subs['response']['users'].get('items'),\n",
    "                }\n",
    "            ]\n",
    "        )\n",
    "\n",
    "        for group_id in user_subs['response']['groups'].get('items')[:top_n]:\n",
    "            if groups_freq_dict.get(group_id):\n",
    "                groups_freq_dict[group_id] += 1\n",
    "            else:\n",
    "                groups_freq_dict[group_id] = 1\n",
    "\n",
    "        subs_pd['subs_count'] = subs_pd['groups_count'] + subs_pd['follows_count']\n",
    "        subs_list.append(subs_pd)\n",
    "    except:\n",
    "#         print(user_subs)\n",
    "        pass\n",
    "    if len(subs_list) % 100 == 0:\n",
    "        print(\"Processed {0} users\".format(len(subs_list)))"
   ]
  },
  {
   "cell_type": "markdown",
   "metadata": {},
   "source": [
    "Самые популярные группы"
   ]
  },
  {
   "cell_type": "code",
   "execution_count": 21,
   "metadata": {},
   "outputs": [
    {
     "data": {
      "text/plain": [
       "[(28658784, 159), (15755094, 32), (24199209, 16), (460389, 16), (24136539, 15)]"
      ]
     },
     "execution_count": 21,
     "metadata": {},
     "output_type": "execute_result"
    }
   ],
   "source": [
    "sorted([(key, val) for key, val in groups_freq_dict.items()], key=lambda x: x[1], reverse=True)[:5]"
   ]
  },
  {
   "cell_type": "markdown",
   "metadata": {},
   "source": [
    "Загрузка постов со стен групп"
   ]
  },
  {
   "cell_type": "code",
   "execution_count": 23,
   "metadata": {},
   "outputs": [
    {
     "name": "stdout",
     "output_type": "stream",
     "text": [
      "100 groups extracted\n",
      "200 groups extracted\n",
      "300 groups extracted\n",
      "400 groups extracted\n",
      "500 groups extracted\n",
      "600 groups extracted\n",
      "700 groups extracted\n",
      "800 groups extracted\n",
      "900 groups extracted\n",
      "1000 groups extracted\n",
      "1100 groups extracted\n",
      "1200 groups extracted\n",
      "1300 groups extracted\n",
      "Response error. Group id 127060077\n",
      "{'error': {'error_code': 15, 'error_msg': 'Access denied: this wall available only for community members', 'request_params': [{'key': 'oauth', 'value': '1'}, {'key': 'method', 'value': 'wall.get'}, {'key': 'owner_id', 'value': '-127060077'}, {'key': 'count', 'value': '100'}, {'key': 'fields', 'value': 'post_type,marked_as_ads'}, {'key': '', 'value': ''}, {'key': 'v', 'value': '4.9'}, {'key': 'lang', 'value': 'ru'}]}}\n",
      "1400 groups extracted\n",
      "1500 groups extracted\n",
      "1600 groups extracted\n",
      "1700 groups extracted\n",
      "1800 groups extracted\n",
      "1900 groups extracted\n",
      "2000 groups extracted\n",
      "2100 groups extracted\n",
      "2200 groups extracted\n",
      "2300 groups extracted\n",
      "2400 groups extracted\n",
      "2500 groups extracted\n",
      "2600 groups extracted\n",
      "2700 groups extracted\n"
     ]
    }
   ],
   "source": [
    "group_doc_dict = {}\n",
    "counter = 0\n",
    "groups_freq_dict_top5 = groups_freq_dict\n",
    "\n",
    "for group_id, freq in groups_freq_dict_top5.items():\n",
    "    counter += 1\n",
    "    try:\n",
    "        check = vk_get_response(\n",
    "            'wall.get',\n",
    "            'owner_id={0}&count=100&fields=post_type,marked_as_ads&&v=4.9&lang=ru'.format(int(group_id) * -1),\n",
    "            access_token\n",
    "        )\n",
    "        check = check['response']\n",
    "        group_doc = ''\n",
    "        if check[0] != 0:\n",
    "            for post in check[1:]:\n",
    "                if post.get('marked_as_ads') != 1:\n",
    "                    group_doc += post['text']\n",
    "        group_doc_dict[group_id] = group_doc\n",
    "    except:\n",
    "        print(\"Response error. Group id {0}\".format(group_id))\n",
    "        print(check)\n",
    "    if counter % 100 == 0:\n",
    "        print(\"{0} groups extracted\".format(counter))\n",
    "    time.sleep(0.3)"
   ]
  },
  {
   "cell_type": "code",
   "execution_count": 24,
   "metadata": {},
   "outputs": [],
   "source": [
    "# сохранить сырые данные по постам групп на диск\n",
    "save_obj(group_doc_dict, 'group_doc_dict')"
   ]
  },
  {
   "cell_type": "code",
   "execution_count": 31,
   "metadata": {},
   "outputs": [
    {
     "name": "stdout",
     "output_type": "stream",
     "text": [
      "[nltk_data] Downloading package punkt to /Users/lera/nltk_data...\n",
      "[nltk_data]   Unzipping tokenizers/punkt.zip.\n"
     ]
    },
    {
     "data": {
      "text/plain": [
       "True"
      ]
     },
     "execution_count": 31,
     "metadata": {},
     "output_type": "execute_result"
    }
   ],
   "source": [
    "from bs4 import BeautifulSoup\n",
    "import re\n",
    "import string\n",
    "from nltk import word_tokenize\n",
    "from nltk.corpus import stopwords\n",
    "from nltk.stem.porter import PorterStemmer\n",
    "import nltk\n",
    "from pymorphy2 import MorphAnalyzer\n",
    "import nltk\n",
    "#nltk.download('stopwords')\n",
    "#nltk.download('punkt')"
   ]
  },
  {
   "cell_type": "code",
   "execution_count": 28,
   "metadata": {},
   "outputs": [],
   "source": [
    "chrs_to_delete = string.punctuation + u'»' + u'«' + u'—' + u'“' + u'„' + u'•' + u'#'\n",
    "translation_table = {ord(c): None for c in chrs_to_delete if c != u'-'}\n",
    "units = MorphAnalyzer.DEFAULT_UNITS\n",
    "morph = MorphAnalyzer(result_type=None, units=units)\n",
    "PortSt = PorterStemmer()\n",
    "stopw = set(\n",
    "    [w for w in stopwords.words(['russian', 'english'])]\n",
    "    + [u'это', u'году', u'года', u'также', u'етот',\n",
    "       u'которые', u'который', u'которая', u'поэтому',\n",
    "       u'весь', u'свой', u'мочь', u'eтот', u'например',\n",
    "       u'какой-то', u'кто-то', u'самый', u'очень', u'несколько',\n",
    "       u'источник', u'стать', u'время', u'пока', u'однако',\n",
    "       u'около', u'немного', u'кроме', u'гораздо', u'каждый',\n",
    "       u'первый', u'вполне', u'из-за', u'из-под',\n",
    "       u'второй', u'нужно', u'нужный', u'просто', u'большой',\n",
    "       u'хороший', u'хотеть', u'начать', u'должный', u'новый', u'день',\n",
    "       u'метр', u'получить', u'далее', u'именно', u'апрель',\n",
    "       u'сообщать', u'разный', u'говорить', u'делать',\n",
    "       u'появиться', u'2016',\n",
    "       u'2015', u'получить', u'иметь', u'составить', u'дать', u'читать',\n",
    "       u'ничто', u'достаточно', u'использовать',\n",
    "       u'принять', u'практически',\n",
    "       u'находиться', u'месяц', u'достаточно', u'что-то', u'часто',\n",
    "       u'хотеть', u'начаться', u'делать', u'событие', u'составлять',\n",
    "       u'остаться', u'заявить', u'сделать', u'дело',\n",
    "       u'примерно', u'попасть', u'хотя', u'лишь', u'первое',\n",
    "       u'больший', u'решить', u'число', u'идти', u'давать', u'вопрос',\n",
    "       u'сегодня', u'часть', u'высокий', u'главный', u'случай', u'место',\n",
    "       u'конец', u'работать', u'работа', u'слово', u'важный', u'сказать']\n",
    ")"
   ]
  },
  {
   "cell_type": "code",
   "execution_count": 29,
   "metadata": {},
   "outputs": [],
   "source": [
    "url_start = 'http[s]?://'\n",
    "url_end = (\n",
    "    '(?:[a-zA-Z]|[0-9]|[$-_@.&+]|[!*\\(\\),]|(?:%[0-9a-fA-F][0-9a-fA-F]))+'\n",
    ")\n",
    "pattern = url_start + url_end"
   ]
  },
  {
   "cell_type": "markdown",
   "metadata": {},
   "source": [
    "Обработка слов постов групп - трансформация в \"хороший\" вид. Нормализация и стэмминг, удаление стоп-слов"
   ]
  },
  {
   "cell_type": "code",
   "execution_count": 32,
   "metadata": {},
   "outputs": [
    {
     "name": "stdout",
     "output_type": "stream",
     "text": [
      "100 docs processed\n",
      "200 docs processed\n",
      "300 docs processed\n",
      "400 docs processed\n",
      "500 docs processed\n",
      "600 docs processed\n",
      "700 docs processed\n",
      "800 docs processed\n",
      "900 docs processed\n",
      "1000 docs processed\n",
      "1100 docs processed\n",
      "1200 docs processed\n",
      "1300 docs processed\n",
      "1400 docs processed\n",
      "1500 docs processed\n"
     ]
    },
    {
     "name": "stderr",
     "output_type": "stream",
     "text": [
      "/Users/lera/anaconda3/lib/python3.6/site-packages/bs4/__init__.py:282: UserWarning: \"https://vk.com/app3122014_-108552697\" looks like a URL. Beautiful Soup is not an HTTP client. You should probably use an HTTP client like requests to get the document behind the URL, and feed that document to Beautiful Soup.\n",
      "  ' that document to Beautiful Soup.' % decoded_markup\n"
     ]
    },
    {
     "name": "stdout",
     "output_type": "stream",
     "text": [
      "1600 docs processed\n",
      "1700 docs processed\n",
      "1800 docs processed\n",
      "1900 docs processed\n",
      "2000 docs processed\n",
      "2100 docs processed\n",
      "2200 docs processed\n",
      "2300 docs processed\n",
      "2400 docs processed\n",
      "2500 docs processed\n",
      "2600 docs processed\n",
      "2700 docs processed\n"
     ]
    }
   ],
   "source": [
    "group_clean_doc_dict = {}\n",
    "counter = 0\n",
    "\n",
    "for group_id, doc in group_doc_dict.items():\n",
    "    soup = BeautifulSoup(doc, 'html.parser')\n",
    "    body = ' '.join(\n",
    "        [tag.string.replace('\\\\n', ' ').replace('\\\\r', ' ')\n",
    "         for tag in soup.descendants if tag.string]\n",
    "    )\n",
    "    body = re.sub('\\[.*?\\]','', body)\n",
    "    body = re.sub(pattern,'', body)\n",
    "    if body != '':\n",
    "        body_clean = body.translate(translation_table).lower().strip()\n",
    "        words = word_tokenize(body_clean)\n",
    "        tokens = []\n",
    "        # stemming and text normalization\n",
    "        for word in words:\n",
    "            if re.match('^[a-z0-9-]+$', word) is not None:\n",
    "                tokens.append(PortSt.stem(word))\n",
    "            elif word.count('-') > 1:\n",
    "                tokens.append(word)\n",
    "            else:\n",
    "                normal_forms = morph.normal_forms(word)\n",
    "                tokens.append(normal_forms[0] if normal_forms else word)\n",
    "        # remove stopwords and leave unique words only\n",
    "        tokens = filter(\n",
    "            lambda token: token not in stopw, sorted(set(tokens))\n",
    "        )\n",
    "\n",
    "        # remove all words with more than 3 chars\n",
    "        tokens = filter(lambda token: len(token) > 3, tokens)\n",
    "    else:\n",
    "        tokens = []\n",
    "    counter += 1\n",
    "    if counter % 100 == 0:\n",
    "        print(\"{0} docs processed\".format(counter))\n",
    "    group_clean_doc_dict[group_id] = tokens\n",
    "\n",
    "group_clean_doc_dict = {key: list(val) for key, val in group_clean_doc_dict.items()}"
   ]
  },
  {
   "cell_type": "code",
   "execution_count": 33,
   "metadata": {},
   "outputs": [],
   "source": [
    "# сохранить обработанные данные на диск\n",
    "save_obj(group_clean_doc_dict, 'group_doc_dict_clean')"
   ]
  },
  {
   "cell_type": "markdown",
   "metadata": {},
   "source": [
    "### Обучение LDA модели"
   ]
  },
  {
   "cell_type": "code",
   "execution_count": 34,
   "metadata": {},
   "outputs": [],
   "source": [
    "from gensim.corpora import TextCorpus\n",
    "from gensim.models.ldamulticore import LdaMulticore\n",
    "from gensim.models.ldamodel import LdaModel\n",
    "\n",
    "class ListTextCorpus(TextCorpus):\n",
    "\n",
    "    def get_texts(self):\n",
    "        for doc in self.input:\n",
    "            yield doc\n",
    "                \n",
    "mycorp = ListTextCorpus(input=group_clean_doc_dict.values())\n",
    "justlda = LdaModel(\n",
    "    corpus=mycorp, num_topics=20, passes=12\n",
    ")"
   ]
  },
  {
   "cell_type": "code",
   "execution_count": 35,
   "metadata": {},
   "outputs": [
    {
     "name": "stdout",
     "output_type": "stream",
     "text": [
      "LdaModel performance\n",
      "0 любой вместе друг человек отличный цена город писать смотреть новое\n",
      "1 ждать выйти последний 2018 новость состояться друг ноябрь фильм команда\n",
      "2 ecть кoгдa чтoб тoлькo кoтopыe мeнить ceбe мнoгo былo мoжeт\n",
      "3 думка 9000 шматок тяжeлoгo 21-26 двуспальная зoмбить model евроремонт black\n",
      "4 комментарииа знать девочка дурман бензин каеффф 😍🔞❤🎧 пoдпиcывaйcть дocтупный бyдeть\n",
      "5 рука человек робот знать цьий зараз треба навіть фото почать\n",
      "6 адам ішінд сата продажа договорный мектепка орташа тенг жұмыс direct\n",
      "7 заказать водонепроницаемый ударопрочный любимый мoлoдeца оплата доставка ролл ⚠оплата суши\n",
      "8 любой рука помощь размер домашний натуральный цвета помочь сантиметр отличный\n",
      "9 подарок скидка последний заказать женщина рассказать посмотреть рубль размер узнать\n",
      "10 своевренно дышу🌫 дешёвый эндшпиль 10000000 своевременно загрязнять учёба 100000 честной\n",
      "11 анас арналғать кейін мағать бәрі течь жақс ондать екен бірден\n",
      "12 человек жизнь любить друг знать твой любимый ждать любовь найти\n",
      "13 любой полный стоить новое небольшой проблема возможность рука город общий\n",
      "14 человек друг ребёнок жизнь ждать любимый знать узнать смотреть рассказать\n",
      "15 матч игрок лига клуб футбол команда чемпион футболист победа сезон\n",
      "16 слоёный кухня-гостиная 👍когда интерьер печение пицца блаженство дизайн кухня хоупа\n",
      "17 жизнь любить человек девушка видеть знать друг твой понять ребёнок\n",
      "18 ноябрь россия житель город 2018 центр октябрь сообщить район рубль\n",
      "19 симпатичный лайк простой интересный крепление явно отпугиватель классный фундамент чудом\n"
     ]
    }
   ],
   "source": [
    "print('LdaModel performance')\n",
    "for i in range(20):\n",
    "    terms = justlda.get_topic_terms(i)\n",
    "    print(i, ' '.join(map(lambda x: mycorp.dictionary.get(x[0]), terms)))"
   ]
  },
  {
   "cell_type": "code",
   "execution_count": 36,
   "metadata": {},
   "outputs": [
    {
     "name": "stdout",
     "output_type": "stream",
     "text": [
      "Group distribution by the most relevant topic\n"
     ]
    },
    {
     "data": {
      "text/plain": [
       "13    0.23\n",
       "12    0.17\n",
       "18    0.13\n",
       "8     0.10\n",
       "0     0.08\n",
       "15    0.04\n",
       "1     0.04\n",
       "17    0.04\n",
       "14    0.04\n",
       "9     0.02\n",
       "2     0.01\n",
       "11    0.01\n",
       "7     0.01\n",
       "19    0.01\n",
       "16    0.01\n",
       "5     0.01\n",
       "4     0.01\n",
       "6     0.01\n",
       "10    0.01\n",
       "3     0.01\n",
       "dtype: float64"
      ]
     },
     "execution_count": 36,
     "metadata": {},
     "output_type": "execute_result"
    }
   ],
   "source": [
    "dummy_dict = {key: 0 for key in range(20)}\n",
    "\n",
    "group_topics_dict_20 = {\n",
    "    group_id: dict(list(dummy_dict.items()) + justlda.get_document_topics(mycorp.dictionary.doc2bow(text)))\n",
    "    for group_id, text in group_clean_doc_dict.items()\n",
    "}\n",
    "check_pd_20 = pd.DataFrame.from_dict(group_topics_dict_20, orient='index')\n",
    "check_pd_20.head(10)\n",
    "print(\"Group distribution by the most relevant topic\")\n",
    "pd.Series.round(check_pd_20.idxmax(axis=1).value_counts() * 1. / len(check_pd_20), 2)"
   ]
  },
  {
   "cell_type": "code",
   "execution_count": 37,
   "metadata": {},
   "outputs": [],
   "source": [
    "# dump lda model to disk\n",
    "justlda.save('ldamodel_20_topics')"
   ]
  },
  {
   "cell_type": "code",
   "execution_count": 40,
   "metadata": {},
   "outputs": [
    {
     "name": "stdout",
     "output_type": "stream",
     "text": [
      "The most typical groups for every topic\n",
      "0 любой вместе друг человек отличный цена город писать смотреть новое\n",
      "Магазинчик от Лололошки http://vk.com/club129078557\n",
      "Художники http://vk.com/club145882099\n",
      "Ridddle http://vk.com/club68141127\n",
      "Киномир | Новинки кино HD http://vk.com/club108220018\n",
      "Ищу.Варшава [Работа|Обьявления|Авторынок|Вопрос] http://vk.com/club150391907\n",
      "Дерзкий Мойша http://vk.com/club122071399\n",
      "Литературная беседка http://vk.com/club45023794\n",
      "Суши Club Златоуст http://vk.com/club115022241\n",
      "ЧЁРНЫЙ РЫНОК ЧЕЛНЫ БАРАХОЛКА №1 http://vk.com/club86211834\n",
      "Hi-Tech | Наука и техника http://vk.com/club35809584\n",
      "\n",
      "1 ждать выйти последний 2018 новость состояться друг ноябрь фильм команда\n",
      "My Life Is MMA http://vk.com/club49264394\n",
      "Я там, где «MMA» | UFC http://vk.com/club68881927\n",
      "dope culture. http://vk.com/club43209385\n",
      "UFC TEAM http://vk.com/club76188426\n",
      "UFC CLUB | MMA http://vk.com/club17039486\n",
      "Интересная планета - путешествия и туризм http://vk.com/club27041765\n",
      "FIGHT NIGHTS GLOBAL http://vk.com/club29790699\n",
      "UFC | Жизнь бойца http://vk.com/club129386072\n",
      "Alex NEGNIY - Trance Air http://vk.com/club28578251\n",
      "Outstanding | Путешествия, Фото http://vk.com/club169184526\n",
      "\n",
      "2 ecть кoгдa чтoб тoлькo кoтopыe мeнить ceбe мнoгo былo мoжeт\n",
      "МИР КИНО http://vk.com/club287912\n",
      "ФИЛЬМЫ 2018 http://vk.com/club32786197\n",
      "Музыка http://vk.com/club42440233\n",
      "Счастливые родители http://vk.com/club79268829\n",
      "Телец http://vk.com/club54365479\n",
      "Психология http://vk.com/club49575094\n",
      "Men's Concept - Мужской журнал http://vk.com/club29719573\n",
      "Oh, yess http://vk.com/club170247397\n",
      "Вслух http://vk.com/club56048543\n",
      "Не болею | Рецепты здоровья и долголетия http://vk.com/club165313378\n",
      "\n",
      "3 думка 9000 шматок тяжeлoгo 21-26 двуспальная зoмбить model евроремонт black\n",
      "Дело техники http://vk.com/club101782526\n",
      "Перфоратор - Мужской журнал http://vk.com/club36574808\n",
      "История оружия | History of guns http://vk.com/club63990175\n",
      "Сам себе автомеханик http://vk.com/club150317532\n",
      "«АНАЙ-ХААК» - Музыкальная студия http://vk.com/club16802325\n",
      "Книга Рекордов http://vk.com/club65662695\n",
      "Сериалы на нтв | Неуловимые http://vk.com/club162427401\n",
      "Пацанам в динамики RAP|Новый Рэп| http://vk.com/club69057591\n",
      "Apple HD Wallpapers Обои для iPhone|iPad|iPod http://vk.com/club79383258\n",
      "Русское радио Ярославль http://vk.com/club46683896\n",
      "\n",
      "4 комментарииа знать девочка дурман бензин каеффф 😍🔞❤🎧 пoдпиcывaйcть дocтупный бyдeть\n",
      "Какая есть, такую и любите.© http://vk.com/club41154660\n",
      "E L E G A N T 💪 http://vk.com/club79875671\n",
      "Сочные GIF 18+ http://vk.com/club152751710\n",
      "А ты знал? http://vk.com/club145187576\n",
      "ОБОИ http://vk.com/club62512467\n",
      "Идеи для дома / 33 кв. метра http://vk.com/club158440614\n",
      "Бобер Стесняшка | GIf http://vk.com/club156492169\n",
      "Жопы твоих одноклассниц ♡ http://vk.com/club123656886\n",
      "Новинки Музыки 2018 http://vk.com/club54500021\n",
      "Las Vegas http://vk.com/club34607647\n",
      "\n",
      "5 рука человек робот знать цьий зараз треба навіть фото почать\n",
      "ТСН http://vk.com/club20035339\n",
      "Веселий Гумор 16+ http://vk.com/club76725039\n",
      "Відверто http://vk.com/club99010625\n",
      "WWF в Україні http://vk.com/club15924945\n",
      "Підслухано  |  Городенка http://vk.com/club73712027\n",
      "Украина http://vk.com/club25442980\n",
      "Больше, чем фото http://vk.com/club27725748\n",
      "♔Томпи♔ http://vk.com/club150913572\n",
      "Голые Девушки | Лучшее Фото http://vk.com/club73372677\n",
      "БОЙЦОВ http://vk.com/club146795401\n",
      "\n",
      "6 адам ішінд сата продажа договорный мектепка орташа тенг жұмыс direct\n",
      "Жанаозен-Актау Квартира http://vk.com/club86207932\n",
      "Поиск торгов по банкротству http://vk.com/club24360026\n",
      "#PARADIGMA™ http://vk.com/club1124690\n",
      "Оружие человечества http://vk.com/club77590335\n",
      "Тараз Хабарландыру Тақтасы http://vk.com/club107480584\n",
      "Cagrı Yıldırım http://vk.com/club87655100\n",
      "Sport in Tajikistan |  TAJIK FIGHT CLUB http://vk.com/club30275007\n",
      "Самое интересное | Бот http://vk.com/club11787\n",
      "Блатной мир. http://vk.com/club121499640\n",
      "Купи-продай в Таразе http://vk.com/club83049030\n",
      "\n",
      "7 заказать водонепроницаемый ударопрочный любимый мoлoдeца оплата доставка ролл ⚠оплата суши\n",
      "Mustafa Kemal Atatürk http://vk.com/club101479747\n",
      "ЖИВОТНЫЕ http://vk.com/club23413763\n",
      "ALIEXPRESS♡LOVE http://vk.com/club40718843\n",
      "Magic Point | Красота. Творчество. Вдохновение http://vk.com/club59242362\n",
      "DEEP SOUND http://vk.com/club4529580\n",
      "Современная хозяйка http://vk.com/club126787126\n",
      "Grodno Ultras http://vk.com/club36079936\n",
      "Fitness &amp; Athletics http://vk.com/club42440633\n",
      "obsession http://vk.com/club117139093\n",
      "Лайфхакер http://vk.com/club151140262\n",
      "\n",
      "8 любой рука помощь размер домашний натуральный цвета помочь сантиметр отличный\n",
      "Разумная экономия|советы, лайфхаки http://vk.com/club124929453\n",
      "Мой уютный дом. Женщинам, хозяйкам, мамам. http://vk.com/club59753465\n",
      "Cook it! - вкусные рецепты http://vk.com/club32231484\n",
      "Домашние хитрости http://vk.com/club156523840\n",
      "Bon Appétit | Лучшие рецепты http://vk.com/club32194285\n",
      "Диетические рецепты  |  Низкокалорийные блюда http://vk.com/club86021337\n",
      "Рецепты тортов http://vk.com/club59980050\n",
      "Хорошие рецепты http://vk.com/club80738991\n",
      "Готовим дома: вкусно и просто http://vk.com/club40020627\n",
      "Лучшие рецепты Повара http://vk.com/club18464856\n",
      "\n",
      "9 подарок скидка последний заказать женщина рассказать посмотреть рубль размер узнать\n",
      "Слова Великих людей http://vk.com/club28981879\n",
      "Мысли делают нас http://vk.com/club39265861\n",
      "Мы из СССР - Вспомним лучшее http://vk.com/club164725342\n",
      "Кадры http://vk.com/club69580110\n",
      "ЯЖЕМАСТЕР http://vk.com/club163476367\n",
      "Саморазвитие http://vk.com/club38182092\n",
      "Валяние из шерсти | FELTING | Сундук с шерстью http://vk.com/club72850408\n",
      "Эту страну не победить! http://vk.com/club4097\n",
      "Аниме | Стоп - Кадры http://vk.com/club147935834\n",
      "Сериалы http://vk.com/club48753462\n",
      "\n",
      "10 своевренно дышу🌫 дешёвый эндшпиль 10000000 своевременно загрязнять учёба 100000 честной\n",
      "Қатты тисе де, ащы шындық... © http://vk.com/club72058501\n",
      "Психотерапия http://vk.com/club148776553\n",
      "Жаным сол ♥ http://vk.com/club45772618\n",
      "DEEP HOUSE MAFIA  [D.H.M.] http://vk.com/club34220506\n",
      "Just Хуманизация|Арты http://vk.com/club132990808\n",
      "Новости Череповца . Фото 🌉 http://vk.com/club15445920\n",
      "Инцидент Череповец | ДТП | ЧП | Новости ● http://vk.com/club6050194\n",
      "Мути под Музыку 2018 http://vk.com/club29314852\n",
      "[NippaTeam] Аниме новости ※ Переводы манги http://vk.com/club31181602\n",
      "FACES! http://vk.com/club37862023\n",
      "\n",
      "11 анас арналғать кейін мағать бәрі течь жақс ондать екен бірден\n",
      "101% Ұқсастық ♛ http://vk.com/club122589083\n",
      "Ne habar Jan’ao’zen? http://vk.com/club76468432\n",
      "Смейся до слёз :D http://vk.com/club26419239\n",
      "Тото Кутуньо | Toto Cutugno http://vk.com/club144259022\n",
      "Классика СССР ☭ CLUB http://vk.com/club124399290\n",
      "СИЛА МЫСЛИ http://vk.com/club143334172\n",
      "HiT-HoT Music | EDM http://vk.com/club26937382\n",
      "EndorfiN http://vk.com/club154945849\n",
      "Әйелдер Барахолкасы | Хабарландыру http://vk.com/club139337024\n",
      "Уютный декор для дома. Handmade и рукоделие http://vk.com/club28587219\n",
      "\n",
      "12 человек жизнь любить друг знать твой любимый ждать любовь найти\n",
      "Близнецы ( 8 ноября ) http://vk.com/club27243668\n",
      "Искусство мудрости http://vk.com/club110319177\n",
      "Овен http://vk.com/club119623142\n",
      "Black &amp; Red ... 💔 http://vk.com/club153525703\n",
      "Читающие http://vk.com/club56918454\n",
      "Beautybook - секреты женской красоты, маникюр http://vk.com/club24359499\n",
      "Ssuka http://vk.com/club171555900\n",
      "ВАЗ http://vk.com/club9637627\n",
      "Cafe racer, Bobber, classic &amp; custom motorcycle http://vk.com/club39931855\n",
      "Психология http://vk.com/club55662720\n",
      "\n",
      "13 любой полный стоить новое небольшой проблема возможность рука город общий\n",
      "Al Qamar http://vk.com/club72547680\n",
      "В автосервисе http://vk.com/club133755929\n",
      "АВТО ПОЧТИ ДАРОМ МОСКВА •Купить •Продать •Номера http://vk.com/club78049396\n",
      "Документальные Фильмы http://vk.com/club77566572\n",
      "Грузия ВКонтакте http://vk.com/club148464158\n",
      "Авторынок Крым (Симферополь, Севастополь) http://vk.com/club57539968\n",
      "ЮстиАл | Юридический паблик http://vk.com/club89850005\n",
      "Проблемное Авто Челябинской области http://vk.com/club147048803\n",
      "Автоподбор НижнекамскВыкуп и продажа авто http://vk.com/club173004236\n",
      "Николай II http://vk.com/club64352699\n",
      "\n",
      "14 человек друг ребёнок жизнь ждать любимый знать узнать смотреть рассказать\n",
      "WomanHit - все новости звезд http://vk.com/club33348177\n",
      "Другое кино http://vk.com/club35349905\n",
      "География в опросах http://vk.com/club73484869\n",
      "Немки - Audi, BMW, Mercedes http://vk.com/club136091433\n"
     ]
    },
    {
     "name": "stdout",
     "output_type": "stream",
     "text": [
      "Мужские мысли http://vk.com/club25397178\n",
      "КЁСЕМ СУЛТАН ❖ СУЛТАН МОЕГО СЕРДЦА http://vk.com/club95129973\n",
      "7Дней http://vk.com/club18682310\n",
      "Капитаны http://vk.com/club154803050\n",
      "Pornhub http://vk.com/club128932034\n",
      "Ржунимагу - анекдоты, приколы http://vk.com/club33708813\n",
      "\n",
      "15 матч игрок лига клуб футбол команда чемпион футболист победа сезон\n",
      "Я там, где «Реал Мадрид» | Real Madrid http://vk.com/club25766847\n",
      "Футбольные карикатуры | Омар Момани http://vk.com/club59680340\n",
      "Мировой Футбол | Лига Чемпионов http://vk.com/club4290276\n",
      "Типичный тракторист http://vk.com/club15436065\n",
      "Футбольные обои http://vk.com/club63130639\n",
      "Реал Мадрид http://vk.com/club39338758\n",
      "Трансферы РПЛ http://vk.com/club43121727\n",
      "FIFA 19 http://vk.com/club13569130\n",
      "АПЛ http://vk.com/club33586421\n",
      "Футбол России | Лига Европы http://vk.com/club127451122\n",
      "\n",
      "16 слоёный кухня-гостиная 👍когда интерьер печение пицца блаженство дизайн кухня хоупа\n",
      "Четкие Приколы http://vk.com/club23064236\n",
      "БЫСТРЫЕ РЕЦЕПТЫ  / Обед за 30 минут http://vk.com/club49119600\n",
      "#tech | Умная электроника http://vk.com/club60777940\n",
      "Обстановочка | Дизайн и декор http://vk.com/club118594947\n",
      "uh http://vk.com/club63496070\n",
      "Проверенные народные рецепты: здоровье до 100лет http://vk.com/club134456770\n",
      "Женский Клуб | GIF http://vk.com/club32646740\n",
      "ZLOY GAMES http://vk.com/club168039599\n",
      "Дизайн / интерьер / стиль  -  SmashDesign http://vk.com/club34612773\n",
      "° Жанымда` Бол |♛|kz http://vk.com/club138716772\n",
      "\n",
      "17 жизнь любить человек девушка видеть знать друг твой понять ребёнок\n",
      "Жесткие Гифки http://vk.com/club130897668\n",
      "Задумайся http://vk.com/club44236056\n",
      "Братья Камазисты◄™ http://vk.com/club48220846\n",
      "Я в шоке! http://vk.com/club28761941\n",
      "Мозгодрайв http://vk.com/club169262172\n",
      "ХОХОТАЛО http://vk.com/club149757211\n",
      "Улётные приколы http://vk.com/club44786979\n",
      "Интересно знать | Мир Фактов http://vk.com/club167561001\n",
      "ФИЛЬМЫ УЖАСОВ http://vk.com/club30823579\n",
      "CRAZY GIF http://vk.com/club99143397\n",
      "\n",
      "18 ноябрь россия житель город 2018 центр октябрь сообщить район рубль\n",
      "ДТП 03 RUS • УЛАН-УДЭ http://vk.com/club81165778\n",
      "Волгоград Сити http://vk.com/club104259260\n",
      "Mews News | Котоновости http://vk.com/club153142026\n",
      "Москва 24 http://vk.com/club35068738\n",
      "Сталингулаг http://vk.com/club103815643\n",
      "ГТРК «Башкортостан» http://vk.com/club28883427\n",
      "Владимирские новости http://vk.com/club137330177\n",
      "БашЧП  | Видеорегистратор | ДТП http://vk.com/club154788830\n",
      "ALAU.KZ http://vk.com/club79148382\n",
      "RuNews24.ru | Новости России http://vk.com/club52255585\n",
      "\n",
      "19 симпатичный лайк простой интересный крепление явно отпугиватель классный фундамент чудом\n",
      "Тысяча чертей, какая татуировка! http://vk.com/club26776509\n",
      "Мода http://vk.com/club39043096\n",
      "Мастерская http://vk.com/club167756336\n",
      "тифло софт http://vk.com/club168039693\n",
      "Немецкие хищники http://vk.com/club46091804\n",
      "интернет икона http://vk.com/club166565888\n",
      "Сделай сам! http://vk.com/club46619709\n",
      "ФОТОГРАФЫ | УРОКИ | ИДЕИ | ФОТОШОП http://vk.com/club160903\n",
      "EA7 / MUSIC http://vk.com/club69578534\n",
      "Discovery http://vk.com/club25117353\n",
      "\n"
     ]
    }
   ],
   "source": [
    "print(\"The most typical groups for every topic\")\n",
    "for i in range(20):\n",
    "    terms = justlda.get_topic_terms(i)\n",
    "    print(i, ' '.join(map(lambda x: mycorp.dictionary.get(x[0]), terms)))\n",
    "    typical_groups = check_pd_20[i].sort_values(ascending=False).index[:10]\n",
    "    for g in typical_groups:\n",
    "        group_info = vk_get_response(\n",
    "            'groups.getById', 'group_ids={0}&v=4.9&lang=ru'.format(g), access_token\n",
    "        )\n",
    "        print(group_info['response'][0]['name'] + ' ' + 'http://vk.com/club' + str(g))\n",
    "        time.sleep(0.3)\n",
    "    print()"
   ]
  },
  {
   "cell_type": "code",
   "execution_count": null,
   "metadata": {},
   "outputs": [],
   "source": []
  }
 ],
 "metadata": {
  "kernelspec": {
   "display_name": "Python 3",
   "language": "python",
   "name": "python3"
  },
  "language_info": {
   "codemirror_mode": {
    "name": "ipython",
    "version": 3
   },
   "file_extension": ".py",
   "mimetype": "text/x-python",
   "name": "python",
   "nbconvert_exporter": "python",
   "pygments_lexer": "ipython3",
   "version": "3.6.5"
  }
 },
 "nbformat": 4,
 "nbformat_minor": 2
}
