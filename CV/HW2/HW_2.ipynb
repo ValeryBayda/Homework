{
 "cells": [
  {
   "cell_type": "markdown",
   "metadata": {},
   "source": [
    "Реализовать модель логистической регрессии. На базе шаблона 004-classification.ipynb необходимо реализовать операцию sigmoid в моделе логистической регрессии.\n",
    "Решение необходимо прислать в виде ipython-ноутбука с визуализацией разделяющей гиперплоскости."
   ]
  },
  {
   "cell_type": "markdown",
   "metadata": {},
   "source": [
    "Статья о методах оптимизации нейронных сетей https://habr.com/ru/post/318970/"
   ]
  },
  {
   "cell_type": "markdown",
   "metadata": {},
   "source": [
    "# Реализация логистической регрессии в TensorFlow"
   ]
  },
  {
   "cell_type": "code",
   "execution_count": 1,
   "metadata": {},
   "outputs": [
    {
     "name": "stderr",
     "output_type": "stream",
     "text": [
      "/Users/lera/anaconda3/lib/python3.6/site-packages/h5py/__init__.py:36: FutureWarning: Conversion of the second argument of issubdtype from `float` to `np.floating` is deprecated. In future, it will be treated as `np.float64 == np.dtype(float).type`.\n",
      "  from ._conv import register_converters as _register_converters\n"
     ]
    }
   ],
   "source": [
    "import numpy as np\n",
    "import tensorflow as tf\n",
    "import matplotlib.pyplot as plt"
   ]
  },
  {
   "cell_type": "markdown",
   "metadata": {},
   "source": [
    "## Генерируем данные для задачи регрессии"
   ]
  },
  {
   "cell_type": "code",
   "execution_count": 2,
   "metadata": {},
   "outputs": [],
   "source": [
    "NUM_FEATURES = 2\n",
    "NUM_SAMPLES = 1000"
   ]
  },
  {
   "cell_type": "code",
   "execution_count": 3,
   "metadata": {},
   "outputs": [
    {
     "data": {
      "image/png": "[encoded data removed]",
      "text/plain": [
       "<Figure size 432x288 with 1 Axes>"
      ]
     },
     "metadata": {},
     "output_type": "display_data"
    }
   ],
   "source": [
    "from sklearn.datasets import make_classification\n",
    "\n",
    "X, y = make_classification(n_samples = NUM_SAMPLES,\n",
    "                           n_features = NUM_FEATURES,\n",
    "                           n_informative = NUM_FEATURES,\n",
    "                           n_redundant = 0,\n",
    "                           n_classes = 2,\n",
    "                           n_clusters_per_class = 1,\n",
    "                           class_sep = 0.75,\n",
    "                           random_state = 54312)\n",
    "\n",
    "y = y.reshape(-1, 1)\n",
    "\n",
    "ones = np.where(y == 1)   # индексы объектов класса '1'\n",
    "zeros = np.where(y == 0)  # индексы объектов класса '0'\n",
    "\n",
    "plt.xlabel('x')\n",
    "plt.ylabel('y')\n",
    "plt.plot(X[ones, 0], X[ones, 1], 'oy',\n",
    "         X[zeros, 0], X[zeros, 1], 'og');"
   ]
  },
  {
   "cell_type": "code",
   "execution_count": 4,
   "metadata": {},
   "outputs": [
    {
     "data": {
      "text/plain": [
       "(1000, 2)"
      ]
     },
     "execution_count": 4,
     "metadata": {},
     "output_type": "execute_result"
    }
   ],
   "source": [
    "X.shape"
   ]
  },
  {
   "cell_type": "markdown",
   "metadata": {},
   "source": [
    "для того, чтобы добавить bias, необходимо добавить к features столбец единиц"
   ]
  },
  {
   "cell_type": "code",
   "execution_count": 5,
   "metadata": {},
   "outputs": [],
   "source": [
    "ones_features = np.ones((X.shape[0], 1))\n",
    "X = np.concatenate((X, ones_features), axis = 1)"
   ]
  },
  {
   "cell_type": "code",
   "execution_count": 6,
   "metadata": {},
   "outputs": [
    {
     "data": {
      "text/plain": [
       "(1000, 3)"
      ]
     },
     "execution_count": 6,
     "metadata": {},
     "output_type": "execute_result"
    }
   ],
   "source": [
    "X.shape"
   ]
  },
  {
   "cell_type": "code",
   "execution_count": 7,
   "metadata": {},
   "outputs": [
    {
     "data": {
      "text/plain": [
       "array([[ 0.53090065, -0.72111157,  1.        ],\n",
       "       [ 0.15208848, -1.20929109,  1.        ],\n",
       "       [ 0.07470638, -0.12826567,  1.        ],\n",
       "       ...,\n",
       "       [ 0.05947586, -0.05329481,  1.        ],\n",
       "       [-0.1783635 , -0.46980986,  1.        ],\n",
       "       [ 0.47776816, -0.74742666,  1.        ]])"
      ]
     },
     "execution_count": 7,
     "metadata": {},
     "output_type": "execute_result"
    }
   ],
   "source": [
    "X"
   ]
  },
  {
   "cell_type": "markdown",
   "metadata": {},
   "source": [
    "### Вспомогательная функция для создания операций"
   ]
  },
  {
   "cell_type": "code",
   "execution_count": 8,
   "metadata": {},
   "outputs": [],
   "source": [
    "import string\n",
    "\n",
    "def py_func_with_grad(func, inp, Tout, grad, name = None, stateful = False, graph = None):\n",
    "    \n",
    "    name_prefix = ''.join(np.random.choice(list(string.ascii_letters), size = 10))\n",
    "    \n",
    "    name = '%s_%s' % (name_prefix, name or '')\n",
    "    grad_func_name = '%s_grad' % name\n",
    "\n",
    "    tf.RegisterGradient(grad_func_name)(grad)\n",
    "\n",
    "    g = graph or tf.get_default_graph()\n",
    "    with g.gradient_override_map({'PyFunc': grad_func_name, \n",
    "                                  'PyFuncStateless': grad_func_name}):\n",
    "        with tf.name_scope(name, 'PyFuncOp', inp):\n",
    "            return tf.py_func(func, inp, Tout, stateful = stateful, name = name)"
   ]
  },
  {
   "cell_type": "markdown",
   "metadata": {},
   "source": [
    "### Реализация линейной операции"
   ]
  },
  {
   "cell_type": "code",
   "execution_count": 9,
   "metadata": {},
   "outputs": [],
   "source": [
    "def linear_op_forward(X, W):\n",
    "    ''' Реализация линейной операции '''\n",
    "    return np.dot(X, W.T) # аргументы являются numpy-массивами"
   ]
  },
  {
   "cell_type": "markdown",
   "metadata": {},
   "source": [
    "### Реализация вычисления градиента линейной операции"
   ]
  },
  {
   "cell_type": "code",
   "execution_count": 10,
   "metadata": {},
   "outputs": [],
   "source": [
    "def linear_op_backward(op, grads):\n",
    "    ''' Реализация вычисления градиента линейной операции '''\n",
    "    X = op.inputs[0]  # тензор входных данных\n",
    "    W = op.inputs[1]  # тензор параметров модели\n",
    "    dX = tf.multiply(grads, W)\n",
    "    dW = tf.reduce_sum(tf.multiply(X, grads),\n",
    "                       axis = 0,\n",
    "                       keep_dims = True)\n",
    "    return dX, dW"
   ]
  },
  {
   "cell_type": "markdown",
   "metadata": {},
   "source": [
    "### Реализация операции sigmoid"
   ]
  },
  {
   "cell_type": "code",
   "execution_count": 11,
   "metadata": {},
   "outputs": [],
   "source": [
    "def sigmoid_op_forward(X):\n",
    "    ''' Реализация операции sigmoid '''\n",
    "    return 1.0 / (1.0 + np.exp(-X))"
   ]
  },
  {
   "cell_type": "markdown",
   "metadata": {},
   "source": [
    "### Реализация вычисления градиента для sigmoid"
   ]
  },
  {
   "cell_type": "code",
   "execution_count": 12,
   "metadata": {},
   "outputs": [],
   "source": [
    "def sigmoid_op_backward(op, grads):\n",
    "    ''' Реализация вычисления градиента для sigmoid '''\n",
    "    sigmoid = op.outputs[0]\n",
    "    return sigmoid * (1 - sigmoid) * grads"
   ]
  },
  {
   "cell_type": "markdown",
   "metadata": {},
   "source": [
    "## Создание графа вычислений и обучение модели (оптимизатор GradientDescentOptimizer)"
   ]
  },
  {
   "cell_type": "code",
   "execution_count": 13,
   "metadata": {},
   "outputs": [
    {
     "name": "stdout",
     "output_type": "stream",
     "text": [
      "WARNING:tensorflow:From <ipython-input-10-ab36e031fac7>:8: calling reduce_sum (from tensorflow.python.ops.math_ops) with keep_dims is deprecated and will be removed in a future version.\n",
      "Instructions for updating:\n",
      "keep_dims is deprecated, use keepdims instead\n",
      "[000] loss=0.765455306 weights=[[0.42727858 0.2590521  0.24137697]]\n",
      "[1000] loss=0.675424039 weights=[[ 0.16333814 -0.5850825  -0.09826852]]\n",
      "[2000] loss=0.629658937 weights=[[ 0.09809747 -1.2167907  -0.30467737]]\n",
      "[3000] loss=0.607915998 weights=[[ 0.15243708 -1.6631283  -0.4204783 ]]\n",
      "[4000] loss=0.594302714 weights=[[ 0.2336385 -2.010599  -0.5113432]]\n",
      "[5000] loss=0.584807396 weights=[[ 0.3160822  -2.2951367  -0.59469175]]\n",
      "[6000] loss=0.577763021 weights=[[ 0.39334294 -2.5359297  -0.67444223]]\n",
      "[7000] loss=0.572302878 weights=[[ 0.4643785 -2.744715  -0.7511669]]\n",
      "[8000] loss=0.567927837 weights=[[ 0.5295705 -2.9291985 -0.8247633]]\n",
      "[9000] loss=0.564331591 weights=[[ 0.5895895 -3.0946774 -0.8951059]]\n",
      "[10000] loss=0.561314225 weights=[[ 0.64508533 -3.2449262  -0.96216536]]\n",
      "[11000] loss=0.558740854 weights=[[ 0.69661874 -3.3827178  -1.0260025 ]]\n",
      "[12000] loss=0.556516349 weights=[[ 0.7446576 -3.5101435 -1.0867385]]\n",
      "[13000] loss=0.554571390 weights=[[ 0.78959274 -3.628813   -1.14453   ]]\n",
      "[14000] loss=0.552854240 weights=[[ 0.83175135 -3.7399895  -1.1995517 ]]\n",
      "[15000] loss=0.551325440 weights=[[ 0.87141186 -3.8446803  -1.2519802 ]]\n",
      "[16000] loss=0.549954593 weights=[[ 0.908813  -3.9437006 -1.3019918]]\n",
      "[17000] loss=0.548717141 weights=[[ 0.94416094 -4.0377197  -1.3497564 ]]\n",
      "[18000] loss=0.547594011 weights=[[ 0.9776359 -4.1272926 -1.3954319]]\n",
      "[19000] loss=0.546568990 weights=[[ 1.0093968 -4.2128763 -1.4391687]]\n",
      "[20000] loss=0.545629561 weights=[[ 1.0395832 -4.2948737 -1.4811052]]\n",
      "[21000] loss=0.544764578 weights=[[ 1.0683218 -4.373608  -1.5213673]]\n",
      "[22000] loss=0.543965340 weights=[[ 1.0957235 -4.4493823 -1.5600749]]\n",
      "[23000] loss=0.543224156 weights=[[ 1.121888  -4.5224514 -1.5973331]]\n",
      "[24000] loss=0.542534709 weights=[[ 1.1469061 -4.5930147 -1.6332431]]\n",
      "[25000] loss=0.541891217 weights=[[ 1.1708612 -4.661259  -1.6678953]]\n",
      "[26000] loss=0.541289210 weights=[[ 1.1938268 -4.7273893 -1.701371 ]]\n",
      "[27000] loss=0.540724218 weights=[[ 1.21587   -4.7915235 -1.7337484]]\n",
      "[28000] loss=0.540193379 weights=[[ 1.2370533 -4.8537917 -1.7650964]]\n",
      "[29000] loss=0.539692760 weights=[[ 1.2574323 -4.914338  -1.795479 ]]\n",
      "[30000] loss=0.539220154 weights=[[ 1.2770596 -4.973256  -1.824957 ]]\n",
      "[31000] loss=0.538773000 weights=[[ 1.2959793 -5.0306525 -1.8535812]]\n",
      "[32000] loss=0.538349032 weights=[[ 1.3142409 -5.086607  -1.8814029]]\n",
      "[33000] loss=0.537946463 weights=[[ 1.3318774 -5.1412053 -1.9084686]]\n",
      "[34000] loss=0.537563562 weights=[[ 1.3489277 -5.1945395 -1.9348211]]\n",
      "[35000] loss=0.537199199 weights=[[ 1.3654269 -5.246613  -1.9604992]]\n",
      "[36000] loss=0.536851346 weights=[[ 1.3814065 -5.297566  -1.9855391]]\n",
      "[37000] loss=0.536519170 weights=[[ 1.3968958 -5.3474154 -2.0099726]]\n",
      "[38000] loss=0.536201477 weights=[[ 1.4119213 -5.3962026 -2.033828 ]]\n",
      "[39000] loss=0.535897434 weights=[[ 1.42651   -5.4440007 -2.0571463]]\n",
      "[40000] loss=0.535605907 weights=[[ 1.4406779 -5.490853  -2.0799465]]\n",
      "[41000] loss=0.535326004 weights=[[ 1.4544532 -5.5368047 -2.1022496]]\n",
      "[42000] loss=0.535057247 weights=[[ 1.4678552 -5.5818696 -2.124078 ]]\n",
      "[43000] loss=0.534798801 weights=[[ 1.4809016 -5.6260867 -2.1454554]]\n",
      "[44000] loss=0.534550190 weights=[[ 1.4936116 -5.6695313 -2.1664066]]\n",
      "[45000] loss=0.534310400 weights=[[ 1.5060011 -5.7122016 -2.1869597]]\n",
      "[46000] loss=0.534079492 weights=[[ 1.5180788 -5.7541213 -2.2071102]]\n",
      "[47000] loss=0.533856571 weights=[[ 1.5298699 -5.7953486 -2.2268856]]\n",
      "[48000] loss=0.533641100 weights=[[ 1.5413833 -5.8358884 -2.246308 ]]\n",
      "[49000] loss=0.533433199 weights=[[ 1.552625  -5.87575   -2.2653828]]\n",
      "[50000] loss=0.533231795 weights=[[ 1.5636148 -5.915016  -2.2841182]]\n",
      "[51000] loss=0.533037126 weights=[[ 1.5743631 -5.953655  -2.3025553]]\n",
      "[52000] loss=0.532848537 weights=[[ 1.5848802 -5.991672  -2.320675 ]]\n",
      "[53000] loss=0.532665849 weights=[[ 1.5951773 -6.0291357 -2.3384886]]\n",
      "[54000] loss=0.532488525 weights=[[ 1.6052544 -6.0660577 -2.3560271]]\n"
     ]
    }
   ],
   "source": [
    "weights = None  # в этой переменной мы сохраним результат обучения модели\n",
    "learning_curve = []  # значения ошибки на каждой итерации обучения\n",
    "\n",
    "with tf.Session(graph = tf.Graph()) as sess:  # инициализируем сессию вычислений\n",
    "    \n",
    "    # создаем placeholdr'ы, через них мы будем\n",
    "    # передавать внешние данные в граф вычислений\n",
    "    plh_X = tf.placeholder(dtype = tf.float32, shape = [None, NUM_FEATURES + 1])\n",
    "    plh_labels = tf.placeholder(dtype = tf.float32, shape = [None, 1])\n",
    "\n",
    "    # создаем переменную для хранения весов модели\n",
    "    # эти веса будут изменяться в процессе обучения\n",
    "    var_W = tf.Variable(tf.random_uniform(shape = [1, NUM_FEATURES + 1],\n",
    "                                          dtype = tf.float32,\n",
    "                                          seed = 54321))\n",
    "    \n",
    "    # создаем переменную для результата предсказания модели\n",
    "    var_Pred = py_func_with_grad(linear_op_forward,         # функция предсказания модели \n",
    "                                 [plh_X, var_W],            # аргументы функции\n",
    "                                 [tf.float32],              # тип выходных значений\n",
    "                                 name = 'linear_op',        # имя операции \n",
    "                                 grad = linear_op_backward, # функция для вычисления градиента\n",
    "                                 graph = sess.graph)        # объект графа вчислений\n",
    "    \n",
    "    # создаем переменную для результата операции sigmoid\n",
    "    var_Sigmoid = py_func_with_grad(sigmoid_op_forward,\n",
    "                                    [var_Pred],\n",
    "                                    [tf.float32],\n",
    "                                    name = 'sigmoid_op',\n",
    "                                    grad = sigmoid_op_backward,\n",
    "                                    graph = sess.graph)\n",
    "    \n",
    "    # кроссэнтропийная функция потерь для бинарной классификации\n",
    "    cost = tf.losses.sigmoid_cross_entropy(plh_labels, var_Sigmoid)\n",
    "    \n",
    "    # инициализируем оптимизатор и указываем скорость обучения\n",
    "    optimizer = tf.train.GradientDescentOptimizer(learning_rate = 0.01).minimize(cost)\n",
    "    \n",
    "    # инициализируем placeholder'ы и переменные\n",
    "    sess.run(tf.global_variables_initializer())\n",
    "    \n",
    "    prev_loss = 0\n",
    "    \n",
    "    # выполняем итерации по 100000 эпохам\n",
    "    for epoch in range(100000):\n",
    "        \n",
    "        # выполняем шаг обучения: вычисляем ошибку и обновляем веса\n",
    "        loss, _ = sess.run([cost, optimizer],  # указываем, какие операции необходимо выполнить\n",
    "                               feed_dict = {plh_X: X,  # передаем входные данные для вычисления\n",
    "                                            plh_labels: y})\n",
    "        \n",
    "        # сохраняем значения ошибки для построения кривой обучения\n",
    "        learning_curve.append(loss)\n",
    "        \n",
    "        # выводим текущее значение ошибки для каждого 1000го шага\n",
    "        steps = len(learning_curve) - 1\n",
    "        if steps % 1000 == 0:\n",
    "            print('[%03d] loss=%.9f weights=%s' % (steps, loss, var_W.eval()))\n",
    "            \n",
    "        if abs (prev_loss - loss) < 0.00000001:\n",
    "            break\n",
    "            \n",
    "        prev_loss = loss\n",
    "        \n",
    "    # сохраняем обученные веса\n",
    "    weights = var_W.eval()"
   ]
  },
  {
   "cell_type": "markdown",
   "metadata": {},
   "source": [
    "### Визуализирую кривую обучения"
   ]
  },
  {
   "cell_type": "code",
   "execution_count": 14,
   "metadata": {},
   "outputs": [
    {
     "data": {
      "image/png": "[encoded data removed]",
      "text/plain": [
       "<Figure size 432x288 with 1 Axes>"
      ]
     },
     "metadata": {},
     "output_type": "display_data"
    }
   ],
   "source": [
    "plt.xlabel('step')\n",
    "plt.ylabel('loss')\n",
    "plt.title('Learning curve (GradientDescentOptimizer)')\n",
    "plt.plot(learning_curve);"
   ]
  },
  {
   "cell_type": "markdown",
   "metadata": {},
   "source": [
    "### Визуализирую разделяющую гиперплоскость"
   ]
  },
  {
   "cell_type": "code",
   "execution_count": 15,
   "metadata": {},
   "outputs": [
    {
     "data": {
      "text/plain": [
       "array([[ 1.612878 , -6.094115 , -2.3693485]], dtype=float32)"
      ]
     },
     "execution_count": 15,
     "metadata": {},
     "output_type": "execute_result"
    }
   ],
   "source": [
    "weights"
   ]
  },
  {
   "cell_type": "code",
   "execution_count": 16,
   "metadata": {
    "scrolled": true
   },
   "outputs": [
    {
     "data": {
      "image/png": "[encoded data removed]",
      "text/plain": [
       "<Figure size 432x288 with 1 Axes>"
      ]
     },
     "metadata": {},
     "output_type": "display_data"
    }
   ],
   "source": [
    "y_pred = - (X[:, 0] * weights[0, 0] + weights[0,2]) / weights[0, 1]\n",
    "\n",
    "order = np.argsort(X[:, 0])\n",
    "\n",
    "plt.xlabel('x')\n",
    "plt.ylabel('y')\n",
    "plt.plot(X[ones, 0], X[ones, 1], 'oy',\n",
    "         X[zeros, 0], X[zeros, 1], 'og',\n",
    "         X[order, 0], y_pred[order], '-r');"
   ]
  },
  {
   "cell_type": "markdown",
   "metadata": {},
   "source": [
    "## Создание графа вычислений и обучение модели (оптимизатор MomentumOptimizer)"
   ]
  },
  {
   "cell_type": "code",
   "execution_count": 17,
   "metadata": {
    "scrolled": true
   },
   "outputs": [
    {
     "name": "stdout",
     "output_type": "stream",
     "text": [
      "[000] loss=0.765455306 weights=[[0.42727858 0.2590521  0.24137697]]\n",
      "[1000] loss=0.561222851 weights=[[ 0.64309657 -3.2544332  -0.9608012 ]]\n",
      "[2000] loss=0.545553207 weights=[[ 1.0408248 -4.303609  -1.483713 ]]\n",
      "[3000] loss=0.539166212 weights=[[ 1.2789615 -4.980998  -1.828263 ]]\n",
      "[4000] loss=0.535565674 weights=[[ 1.442603  -5.497907  -2.0832074]]\n",
      "[5000] loss=0.533200443 weights=[[ 1.5654066 -5.921554  -2.2872162]]\n",
      "[6000] loss=0.531502008 weights=[[ 1.6633506 -6.2830677 -2.458769 ]]\n",
      "[7000] loss=0.530209720 weights=[[ 1.7449238 -6.5998006 -2.607812 ]]\n",
      "[8000] loss=0.529185534 weights=[[ 1.8150363 -6.882557  -2.7402494]]\n",
      "[9000] loss=0.528348923 weights=[[ 1.8767262 -7.1385574 -2.8598661]]\n",
      "[10000] loss=0.527649581 weights=[[ 1.9319806 -7.372892  -2.9692397]]\n",
      "[11000] loss=0.527054369 weights=[[ 1.9821581 -7.589288  -3.0702112]]\n",
      "[12000] loss=0.526539922 weights=[[ 2.0282257 -7.7905684 -3.1641436]]\n",
      "[13000] loss=0.526089609 weights=[[ 2.0708926 -7.9789186 -3.2520778]]\n",
      "[14000] loss=0.525691450 weights=[[ 2.110697  -8.1560755 -3.3348289]]\n",
      "[15000] loss=0.525336385 weights=[[ 2.1480484 -8.323422  -3.4130523]]\n",
      "[16000] loss=0.525017083 weights=[[ 2.1832824 -8.482116  -3.4872775]]\n",
      "[17000] loss=0.524728179 weights=[[ 2.216658  -8.63311   -3.5579443]]\n",
      "[18000] loss=0.524465084 weights=[[ 2.248387  -8.777177  -3.6254177]]\n",
      "[19000] loss=0.524224043 weights=[[ 2.2786543 -8.915023  -3.6900127]]\n",
      "[20000] loss=0.524002492 weights=[[ 2.307607  -9.047184  -3.7519917]]\n",
      "[21000] loss=0.523798108 weights=[[ 2.3353703 -9.174206  -3.8115854]]\n",
      "[22000] loss=0.523608506 weights=[[ 2.362054 -9.296479 -3.868994]]\n"
     ]
    }
   ],
   "source": [
    "weights = None  # в этой переменной мы сохраним результат обучения модели\n",
    "learning_curve = []  # значения ошибки на каждой итерации обучения\n",
    "\n",
    "with tf.Session(graph = tf.Graph()) as sess:  # инициализируем сессию вычислений\n",
    "    \n",
    "    # создаем placeholdr'ы, через них мы будем\n",
    "    # передавать внешние данные в граф вычислений\n",
    "    plh_X = tf.placeholder(dtype = tf.float32, shape = [None, NUM_FEATURES + 1])\n",
    "    plh_labels = tf.placeholder(dtype = tf.float32, shape = [None, 1])\n",
    "\n",
    "    # создаем переменную для хранения весов модели\n",
    "    # эти веса будут изменяться в процессе обучения\n",
    "    var_W = tf.Variable(tf.random_uniform(shape = [1, NUM_FEATURES + 1],\n",
    "                                          dtype = tf.float32,\n",
    "                                          seed = 54321))\n",
    "    \n",
    "    # создаем переменную для результата предсказания модели\n",
    "    var_Pred = py_func_with_grad(linear_op_forward,         # функция предсказания модели \n",
    "                                 [plh_X, var_W],            # аргументы функции\n",
    "                                 [tf.float32],              # тип выходных значений\n",
    "                                 name = 'linear_op',        # имя операции \n",
    "                                 grad = linear_op_backward, # функция для вычисления градиента\n",
    "                                 graph = sess.graph)        # объект графа вчислений\n",
    "    \n",
    "    # создаем переменную для результата операции sigmoid\n",
    "    var_Sigmoid = py_func_with_grad(sigmoid_op_forward,\n",
    "                                    [var_Pred],\n",
    "                                    [tf.float32],\n",
    "                                    name = 'sigmoid_op',\n",
    "                                    grad = sigmoid_op_backward,\n",
    "                                    graph = sess.graph)\n",
    "    \n",
    "    # кроссэнтропийная функция потерь для бинарной классификации\n",
    "    cost = tf.losses.sigmoid_cross_entropy(plh_labels, var_Sigmoid)\n",
    "    \n",
    "    # инициализируем оптимизатор и указываем скорость обучения\n",
    "    optimizer = tf.train.MomentumOptimizer(learning_rate=0.01, momentum=0.9).minimize(cost)\n",
    "    \n",
    "    # инициализируем placeholder'ы и переменные\n",
    "    sess.run(tf.global_variables_initializer())\n",
    "    \n",
    "    prev_loss = 0\n",
    "    \n",
    "    # выполняем итерации по 100000 эпохам\n",
    "    for epoch in range(100000):\n",
    "        \n",
    "        # выполняем шаг обучения: вычисляем ошибку и обновляем веса\n",
    "        loss, _ = sess.run([cost, optimizer],  # указываем, какие операции необходимо выполнить\n",
    "                               feed_dict = {plh_X: X,  # передаем входные данные для вычисления\n",
    "                                            plh_labels: y})\n",
    "        \n",
    "        # сохраняем значения ошибки для построения кривой обучения\n",
    "        learning_curve.append(loss)\n",
    "        \n",
    "        # выводим текущее значение ошибки для каждого 1000го шага\n",
    "        steps = len(learning_curve) - 1\n",
    "        if steps % 1000 == 0:\n",
    "            print('[%03d] loss=%.9f weights=%s' % (steps, loss, var_W.eval()))\n",
    "            \n",
    "        if abs (prev_loss - loss) < 0.00000001:\n",
    "            break\n",
    "            \n",
    "        prev_loss = loss\n",
    "        \n",
    "    # сохраняем обученные веса\n",
    "    weights = var_W.eval()"
   ]
  },
  {
   "cell_type": "markdown",
   "metadata": {},
   "source": [
    "### Визуализирую кривую обучения"
   ]
  },
  {
   "cell_type": "code",
   "execution_count": 18,
   "metadata": {
    "scrolled": true
   },
   "outputs": [
    {
     "data": {
      "image/png": "[encoded data removed]",
      "text/plain": [
       "<Figure size 432x288 with 1 Axes>"
      ]
     },
     "metadata": {},
     "output_type": "display_data"
    }
   ],
   "source": [
    "plt.xlabel('step')\n",
    "plt.ylabel('loss')\n",
    "plt.title('Learning curve (MomentumOptimizer)')\n",
    "plt.plot(learning_curve);"
   ]
  },
  {
   "cell_type": "markdown",
   "metadata": {},
   "source": [
    "### Визуализирую разделяющую гиперплоскость"
   ]
  },
  {
   "cell_type": "code",
   "execution_count": 19,
   "metadata": {},
   "outputs": [
    {
     "data": {
      "text/plain": [
       "array([[ 2.3812869, -9.384754 , -3.910444 ]], dtype=float32)"
      ]
     },
     "execution_count": 19,
     "metadata": {},
     "output_type": "execute_result"
    }
   ],
   "source": [
    "weights"
   ]
  },
  {
   "cell_type": "code",
   "execution_count": 20,
   "metadata": {
    "scrolled": true
   },
   "outputs": [
    {
     "data": {
      "image/png": "[encoded data removed]",
      "text/plain": [
       "<Figure size 432x288 with 1 Axes>"
      ]
     },
     "metadata": {},
     "output_type": "display_data"
    }
   ],
   "source": [
    "y_pred = - (X[:, 0] * weights[0, 0] + weights[0,2]) / weights[0, 1]\n",
    "\n",
    "order = np.argsort(X[:, 0])\n",
    "\n",
    "plt.xlabel('x')\n",
    "plt.ylabel('y')\n",
    "plt.plot(X[ones, 0], X[ones, 1], 'oy',\n",
    "         X[zeros, 0], X[zeros, 1], 'og',\n",
    "         X[order, 0], y_pred[order], '-r');"
   ]
  },
  {
   "cell_type": "markdown",
   "metadata": {},
   "source": [
    "## Создание графа вычислений и обучение модели (оптимизатор AdamOptimizer)"
   ]
  },
  {
   "cell_type": "code",
   "execution_count": 21,
   "metadata": {
    "scrolled": true
   },
   "outputs": [
    {
     "name": "stdout",
     "output_type": "stream",
     "text": [
      "[000] loss=0.765455306 weights=[[0.41748944 0.24982694 0.23166512]]\n",
      "[1000] loss=0.540694952 weights=[[ 1.4909647 -4.6898365 -1.9671052]]\n",
      "[2000] loss=0.528835177 weights=[[ 1.9579563 -6.9434824 -2.9068635]]\n",
      "[3000] loss=0.524362862 weights=[[ 2.3295348 -8.806556  -3.7378047]]\n",
      "[4000] loss=0.521960199 weights=[[  2.6908448 -10.576409   -4.549811 ]]\n",
      "[5000] loss=0.520467818 weights=[[  3.0645    -12.364808   -5.3821545]]\n",
      "[6000] loss=0.519471586 weights=[[  3.4608476 -14.230584   -6.258078 ]]\n",
      "[7000] loss=0.518780470 weights=[[  3.8850853 -16.20994    -7.1935744]]\n",
      "[8000] loss=0.518291414 weights=[[  4.3385983 -18.327677   -8.201331 ]]\n",
      "[9000] loss=0.517940640 weights=[[  4.8187394 -20.604197   -9.293882 ]]\n",
      "[10000] loss=0.517685652 weights=[[  5.318015 -23.063364 -10.487478]]\n",
      "[11000] loss=0.517495871 weights=[[  5.82636  -25.746151 -11.807343]]\n"
     ]
    }
   ],
   "source": [
    "weights = None  # в этой переменной мы сохраним результат обучения модели\n",
    "learning_curve = []  # значения ошибки на каждой итерации обучения\n",
    "\n",
    "with tf.Session(graph = tf.Graph()) as sess:  # инициализируем сессию вычислений\n",
    "    \n",
    "    # создаем placeholdr'ы, через них мы будем\n",
    "    # передавать внешние данные в граф вычислений\n",
    "    plh_X = tf.placeholder(dtype = tf.float32, shape = [None, NUM_FEATURES + 1])\n",
    "    plh_labels = tf.placeholder(dtype = tf.float32, shape = [None, 1])\n",
    "\n",
    "    # создаем переменную для хранения весов модели\n",
    "    # эти веса будут изменяться в процессе обучения\n",
    "    var_W = tf.Variable(tf.random_uniform(shape = [1, NUM_FEATURES + 1],\n",
    "                                          dtype = tf.float32,\n",
    "                                          seed = 54321))\n",
    "    \n",
    "    # создаем переменную для результата предсказания модели\n",
    "    var_Pred = py_func_with_grad(linear_op_forward,         # функция предсказания модели \n",
    "                                 [plh_X, var_W],            # аргументы функции\n",
    "                                 [tf.float32],              # тип выходных значений\n",
    "                                 name = 'linear_op',        # имя операции \n",
    "                                 grad = linear_op_backward, # функция для вычисления градиента\n",
    "                                 graph = sess.graph)        # объект графа вчислений\n",
    "    \n",
    "    # создаем переменную для результата операции sigmoid\n",
    "    var_Sigmoid = py_func_with_grad(sigmoid_op_forward,\n",
    "                                    [var_Pred],\n",
    "                                    [tf.float32],\n",
    "                                    name = 'sigmoid_op',\n",
    "                                    grad = sigmoid_op_backward,\n",
    "                                    graph = sess.graph)\n",
    "    \n",
    "    # кроссэнтропийная функция потерь для бинарной классификации\n",
    "    cost = tf.losses.sigmoid_cross_entropy(plh_labels, var_Sigmoid)\n",
    "    \n",
    "    # инициализируем оптимизатор и указываем скорость обучения\n",
    "    \n",
    "    optimizer = tf.train.AdamOptimizer(learning_rate=0.01, beta1=0.9, beta2=0.999, epsilon=1e-08,).minimize(cost)\n",
    "    \n",
    "    # инициализируем placeholder'ы и переменные\n",
    "    sess.run(tf.global_variables_initializer())\n",
    "    \n",
    "    prev_loss = 0\n",
    "    \n",
    "    # выполняем итерации по 100000 эпохам\n",
    "    for epoch in range(100000):\n",
    "        \n",
    "        # выполняем шаг обучения: вычисляем ошибку и обновляем веса\n",
    "        loss, _ = sess.run([cost, optimizer],  # указываем, какие операции необходимо выполнить\n",
    "                               feed_dict = {plh_X: X,  # передаем входные данные для вычисления\n",
    "                                            plh_labels: y})\n",
    "        \n",
    "        # сохраняем значения ошибки для построения кривой обучения\n",
    "        learning_curve.append(loss)\n",
    "        \n",
    "        # выводим текущее значение ошибки для каждого 1000го шага\n",
    "        steps = len(learning_curve) - 1\n",
    "        if steps % 1000 == 0:\n",
    "            print('[%03d] loss=%.9f weights=%s' % (steps, loss, var_W.eval()))\n",
    "            \n",
    "        if abs (prev_loss - loss) < 0.00000001:\n",
    "            break\n",
    "            \n",
    "        prev_loss = loss\n",
    "        \n",
    "    # сохраняем обученные веса\n",
    "    weights = var_W.eval()"
   ]
  },
  {
   "cell_type": "markdown",
   "metadata": {},
   "source": [
    "### Визуализирую кривую обучения"
   ]
  },
  {
   "cell_type": "code",
   "execution_count": 22,
   "metadata": {
    "scrolled": true
   },
   "outputs": [
    {
     "data": {
      "image/png": "[encoded data removed]",
      "text/plain": [
       "<Figure size 432x288 with 1 Axes>"
      ]
     },
     "metadata": {},
     "output_type": "display_data"
    }
   ],
   "source": [
    "plt.xlabel('step')\n",
    "plt.ylabel('loss')\n",
    "plt.title('Learning curve (AdamOptimizer)')\n",
    "plt.plot(learning_curve);"
   ]
  },
  {
   "cell_type": "markdown",
   "metadata": {},
   "source": [
    "### Визуализирую разделяющую гиперплоскость"
   ]
  },
  {
   "cell_type": "code",
   "execution_count": 23,
   "metadata": {
    "scrolled": true
   },
   "outputs": [
    {
     "data": {
      "text/plain": [
       "array([[  6.0253086, -26.859566 , -12.359711 ]], dtype=float32)"
      ]
     },
     "execution_count": 23,
     "metadata": {},
     "output_type": "execute_result"
    }
   ],
   "source": [
    "weights"
   ]
  },
  {
   "cell_type": "code",
   "execution_count": 24,
   "metadata": {
    "scrolled": false
   },
   "outputs": [
    {
     "data": {
      "image/png": "[encoded data removed]",
      "text/plain": [
       "<Figure size 432x288 with 1 Axes>"
      ]
     },
     "metadata": {},
     "output_type": "display_data"
    }
   ],
   "source": [
    "y_pred = - (X[:, 0] * weights[0, 0] + weights[0,2]) / weights[0, 1]\n",
    "\n",
    "order = np.argsort(X[:, 0])\n",
    "\n",
    "plt.xlabel('x')\n",
    "plt.ylabel('y')\n",
    "plt.plot(X[ones, 0], X[ones, 1], 'oy',\n",
    "         X[zeros, 0], X[zeros, 1], 'og',\n",
    "         X[order, 0], y_pred[order], '-r');"
   ]
  },
  {
   "cell_type": "markdown",
   "metadata": {},
   "source": [
    "## Создание графа вычислений и обучение модели (оптимизатор RMSPropOptimizer)"
   ]
  },
  {
   "cell_type": "code",
   "execution_count": 25,
   "metadata": {
    "scrolled": false
   },
   "outputs": [
    {
     "name": "stdout",
     "output_type": "stream",
     "text": [
      "[000] loss=0.765455306 weights=[[0.4272672  0.25901046 0.2413614 ]]\n",
      "[1000] loss=0.523988008 weights=[[ 2.3935616 -9.035445  -3.862187 ]]\n",
      "[2000] loss=0.518203616 weights=[[  4.445354 -18.823792  -8.445423]]\n",
      "[3000] loss=0.517354548 weights=[[  6.321547 -28.58163  -13.213472]]\n",
      "[4000] loss=0.517080843 weights=[[  7.900038 -37.815636 -17.789154]]\n"
     ]
    }
   ],
   "source": [
    "weights = None  # в этой переменной мы сохраним результат обучения модели\n",
    "learning_curve = []  # значения ошибки на каждой итерации обучения\n",
    "\n",
    "with tf.Session(graph = tf.Graph()) as sess:  # инициализируем сессию вычислений\n",
    "    \n",
    "    # создаем placeholdr'ы, через них мы будем\n",
    "    # передавать внешние данные в граф вычислений\n",
    "    plh_X = tf.placeholder(dtype = tf.float32, shape = [None, NUM_FEATURES + 1])\n",
    "    plh_labels = tf.placeholder(dtype = tf.float32, shape = [None, 1])\n",
    "\n",
    "    # создаем переменную для хранения весов модели\n",
    "    # эти веса будут изменяться в процессе обучения\n",
    "    var_W = tf.Variable(tf.random_uniform(shape = [1, NUM_FEATURES + 1],\n",
    "                                          dtype = tf.float32,\n",
    "                                          seed = 54321))\n",
    "    \n",
    "    # создаем переменную для результата предсказания модели\n",
    "    var_Pred = py_func_with_grad(linear_op_forward,         # функция предсказания модели \n",
    "                                 [plh_X, var_W],            # аргументы функции\n",
    "                                 [tf.float32],              # тип выходных значений\n",
    "                                 name = 'linear_op',        # имя операции \n",
    "                                 grad = linear_op_backward, # функция для вычисления градиента\n",
    "                                 graph = sess.graph)        # объект графа вчислений\n",
    "    \n",
    "    # создаем переменную для результата операции sigmoid\n",
    "    var_Sigmoid = py_func_with_grad(sigmoid_op_forward,\n",
    "                                    [var_Pred],\n",
    "                                    [tf.float32],\n",
    "                                    name = 'sigmoid_op',\n",
    "                                    grad = sigmoid_op_backward,\n",
    "                                    graph = sess.graph)\n",
    "    \n",
    "    # кроссэнтропийная функция потерь для бинарной классификации\n",
    "    cost = tf.losses.sigmoid_cross_entropy(plh_labels, var_Sigmoid)\n",
    "    \n",
    "    # инициализируем оптимизатор и указываем скорость обучения\n",
    "    optimizer = tf.train.RMSPropOptimizer(learning_rate = 0.01, decay=0.9, momentum=0.0, epsilon=1e-10,).minimize(cost)\n",
    "    \n",
    "    # инициализируем placeholder'ы и переменные\n",
    "    sess.run(tf.global_variables_initializer())\n",
    "    \n",
    "    prev_loss = 0\n",
    "    \n",
    "    # выполняем итерации по 100000 эпохам\n",
    "    for epoch in range(100000):\n",
    "        \n",
    "        # выполняем шаг обучения: вычисляем ошибку и обновляем веса\n",
    "        loss, _ = sess.run([cost, optimizer],  # указываем, какие операции необходимо выполнить\n",
    "                               feed_dict = {plh_X: X,  # передаем входные данные для вычисления\n",
    "                                            plh_labels: y})\n",
    "        \n",
    "        # сохраняем значения ошибки для построения кривой обучения\n",
    "        learning_curve.append(loss)\n",
    "        \n",
    "        # выводим текущее значение ошибки для каждого 1000го шага\n",
    "        steps = len(learning_curve) - 1\n",
    "        if steps % 1000 == 0:\n",
    "            print('[%03d] loss=%.9f weights=%s' % (steps, loss, var_W.eval()))\n",
    "            \n",
    "        if abs (prev_loss - loss) < 0.00000001:\n",
    "            break\n",
    "            \n",
    "        prev_loss = loss\n",
    "        \n",
    "    # сохраняем обученные веса\n",
    "    weights = var_W.eval()"
   ]
  },
  {
   "cell_type": "markdown",
   "metadata": {},
   "source": [
    "### Визуализирую кривую обучения"
   ]
  },
  {
   "cell_type": "code",
   "execution_count": 26,
   "metadata": {
    "scrolled": false
   },
   "outputs": [
    {
     "data": {
      "image/png": "[encoded data removed]",
      "text/plain": [
       "<Figure size 432x288 with 1 Axes>"
      ]
     },
     "metadata": {},
     "output_type": "display_data"
    }
   ],
   "source": [
    "plt.xlabel('step')\n",
    "plt.ylabel('loss')\n",
    "plt.title('Learning curve (RMSPropOptimizer)')\n",
    "plt.plot(learning_curve);"
   ]
  },
  {
   "cell_type": "markdown",
   "metadata": {},
   "source": [
    "### Визуализирую разделяющую гиперплоскость"
   ]
  },
  {
   "cell_type": "code",
   "execution_count": 27,
   "metadata": {
    "scrolled": false
   },
   "outputs": [
    {
     "data": {
      "text/plain": [
       "array([[  9.184014, -44.96468 , -21.291374]], dtype=float32)"
      ]
     },
     "execution_count": 27,
     "metadata": {},
     "output_type": "execute_result"
    }
   ],
   "source": [
    "weights"
   ]
  },
  {
   "cell_type": "code",
   "execution_count": 28,
   "metadata": {
    "scrolled": false
   },
   "outputs": [
    {
     "data": {
      "image/png": "[encoded data removed]",
      "text/plain": [
       "<Figure size 432x288 with 1 Axes>"
      ]
     },
     "metadata": {},
     "output_type": "display_data"
    }
   ],
   "source": [
    "y_pred = - (X[:, 0] * weights[0, 0] + weights[0,2]) / weights[0, 1]\n",
    "\n",
    "order = np.argsort(X[:, 0])\n",
    "\n",
    "plt.xlabel('x')\n",
    "plt.ylabel('y')\n",
    "plt.plot(X[ones, 0], X[ones, 1], 'oy',\n",
    "         X[zeros, 0], X[zeros, 1], 'og',\n",
    "         X[order, 0], y_pred[order], '-r');"
   ]
  },
  {
   "cell_type": "markdown",
   "metadata": {},
   "source": [
    "По мои ощущениям эта работа оказалась для меня самой сложной из-за отсутсвия опыта работы с TensorFlow. Порекомендуйте, пожалуйста, полезные материалы для быстрого освоения TensorFlow."
   ]
  },
  {
   "cell_type": "code",
   "execution_count": null,
   "metadata": {},
   "outputs": [],
   "source": []
  }
 ],
 "metadata": {
  "kernelspec": {
   "display_name": "Python 3",
   "language": "python",
   "name": "python3"
  },
  "language_info": {
   "codemirror_mode": {
    "name": "ipython",
    "version": 3
   },
   "file_extension": ".py",
   "mimetype": "text/x-python",
   "name": "python",
   "nbconvert_exporter": "python",
   "pygments_lexer": "ipython3",
   "version": "3.6.5"
  }
 },
 "nbformat": 4,
 "nbformat_minor": 2
}
