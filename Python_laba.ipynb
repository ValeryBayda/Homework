{
 "cells": [
  {
   "cell_type": "markdown",
   "metadata": {},
   "source": [
    " # Лабораторная работа  по модулю “Python для анализа данных”"
   ]
  },
  {
   "cell_type": "markdown",
   "metadata": {},
   "source": [
    "### Задание 1\n",
    "Дан произвольный список, содержащий только числа.Выведите результат сложения всех чисел больше 10."
   ]
  },
  {
   "cell_type": "code",
   "execution_count": 1,
   "metadata": {},
   "outputs": [],
   "source": [
    "def summ_list(*args): \n",
    "    return sum(i for i in args if i>10)"
   ]
  },
  {
   "cell_type": "code",
   "execution_count": 2,
   "metadata": {},
   "outputs": [
    {
     "data": {
      "text/plain": [
       "136"
      ]
     },
     "execution_count": 2,
     "metadata": {},
     "output_type": "execute_result"
    }
   ],
   "source": [
    "summ_list(1,2,3,4,5,10,11,12,13,100)"
   ]
  },
  {
   "cell_type": "markdown",
   "metadata": {},
   "source": [
    "### Задание 2\n",
    "Пусть задан список, содержащий строки.Выведите все строки, заканчивающиеся буковой r"
   ]
  },
  {
   "cell_type": "code",
   "execution_count": 3,
   "metadata": {},
   "outputs": [],
   "source": [
    "def find_r_in_string(*args):\n",
    "    return [string for string in args if string[-1]=='r']"
   ]
  },
  {
   "cell_type": "code",
   "execution_count": 4,
   "metadata": {},
   "outputs": [
    {
     "data": {
      "text/plain": [
       "['New car', 'Your']"
      ]
     },
     "execution_count": 4,
     "metadata": {},
     "output_type": "execute_result"
    }
   ],
   "source": [
    "find_r_in_string('Hello, world!', 'New car', 'Your', 'My name is')"
   ]
  },
  {
   "cell_type": "markdown",
   "metadata": {},
   "source": [
    "### Задание 3\n",
    "Сгенерируйте и выведите cлучайную строку размером 6 символов, содержащую только цифры. Строка должна содержать хотя бы одну цифру 3\n"
   ]
  },
  {
   "cell_type": "code",
   "execution_count": 5,
   "metadata": {},
   "outputs": [],
   "source": [
    "import random\n",
    "def generation_string_with_3():\n",
    "    list_of_numbers=[random.choice('0123456789') for x in range(6)]\n",
    "    i=int(random.choice('012345'))\n",
    "    list_of_numbers[i]='3'\n",
    "    return ''.join(list_of_numbers)"
   ]
  },
  {
   "cell_type": "code",
   "execution_count": 6,
   "metadata": {},
   "outputs": [
    {
     "data": {
      "text/plain": [
       "'751233'"
      ]
     },
     "execution_count": 6,
     "metadata": {},
     "output_type": "execute_result"
    }
   ],
   "source": [
    "generation_string_with_3()"
   ]
  },
  {
   "cell_type": "markdown",
   "metadata": {},
   "source": [
    "### Задание 4\n",
    "Пусть дана строка произвольной длины. Выведите информацию о том,сколько в ней символов и сколько слов"
   ]
  },
  {
   "cell_type": "code",
   "execution_count": 7,
   "metadata": {},
   "outputs": [],
   "source": [
    "def string_information(string):\n",
    "    count_words=len(string.split())\n",
    "    count_digits=len(string)\n",
    "    print (f'Строка состоит из {count_words} слов и {count_digits} символов')\n",
    "    "
   ]
  },
  {
   "cell_type": "code",
   "execution_count": 8,
   "metadata": {},
   "outputs": [
    {
     "name": "stdout",
     "output_type": "stream",
     "text": [
      "Строка состоит из 2 слов и 13 символов\n"
     ]
    }
   ],
   "source": [
    "string_information('Hello, world!')"
   ]
  },
  {
   "cell_type": "markdown",
   "metadata": {},
   "source": [
    "### Задание 5\n",
    "Пусть дана матрица чисел размером NхN. Представьте данную матрицу ввиде списка. Выведите результат сложения всех элементов матрицы."
   ]
  },
  {
   "cell_type": "code",
   "execution_count": 9,
   "metadata": {},
   "outputs": [],
   "source": [
    "def summ_matrix(matrix):\n",
    "    list_elements=[]\n",
    "    for element in matrix:\n",
    "        list_elements+=element\n",
    "    return sum(list_elements)\n"
   ]
  },
  {
   "cell_type": "code",
   "execution_count": 10,
   "metadata": {},
   "outputs": [
    {
     "data": {
      "text/plain": [
       "45"
      ]
     },
     "execution_count": 10,
     "metadata": {},
     "output_type": "execute_result"
    }
   ],
   "source": [
    "matrix=[[1,2,3],[4,5,6],[7,8,9]]\n",
    "summ_matrix(matrix)"
   ]
  },
  {
   "cell_type": "markdown",
   "metadata": {},
   "source": [
    "### Задание 6\n",
    "Пусть список студентов представлен в виде структуры [[No, ФИО, Возраст,Группа],[No, ФИО, Возраст, Группа],[No, ФИО, Возраст, Группа]]. Преобразуйте список в словарь вида: {No: [ФИО, Возраст, Группа], No:[....], No: [....]}"
   ]
  },
  {
   "cell_type": "code",
   "execution_count": 11,
   "metadata": {},
   "outputs": [],
   "source": [
    "def dict_students(list_students):\n",
    "    return {student[0]:student[1:] for student in list_students}"
   ]
  },
  {
   "cell_type": "code",
   "execution_count": 12,
   "metadata": {},
   "outputs": [
    {
     "data": {
      "text/plain": [
       "{1: ['Петров Петр Петрович', 18, '1'],\n",
       " 2: ['Иванов Иван Иванович', 21, '1'],\n",
       " 3: ['Сидоров Александр Александрович', 20, '2']}"
      ]
     },
     "execution_count": 12,
     "metadata": {},
     "output_type": "execute_result"
    }
   ],
   "source": [
    "list_students=[[1,'Петров Петр Петрович', 18,'1'],[2, 'Иванов Иван Иванович', 21, '1'], [3, 'Сидоров Александр Александрович', 20, '2']]\n",
    "dictionary_students=dict_students(list_students)\n",
    "dictionary_students"
   ]
  },
  {
   "cell_type": "markdown",
   "metadata": {},
   "source": [
    "### Задание 7\n",
    "Добавьте к задаче No6для словаря возможность (без преобразования словаря обратно в список) изменить группу студента. Поиск по «ФИО» («ФИО» студента и новый номер группы необходимо ввести с клавиатуры)"
   ]
  },
  {
   "cell_type": "code",
   "execution_count": 13,
   "metadata": {},
   "outputs": [],
   "source": [
    "def change_group():\n",
    "    fio=input('Введите ФИО студента ')\n",
    "    group_number=input('Введите новый номер группы студента ')\n",
    "    for key, value in dictionary_students.items():\n",
    "        if value[0]==fio:\n",
    "            dictionary_students[key][-1]=group_number\n",
    "            print (f'Обновленные данные о студенте: {dictionary_students[key]}')"
   ]
  },
  {
   "cell_type": "code",
   "execution_count": 14,
   "metadata": {},
   "outputs": [
    {
     "name": "stdout",
     "output_type": "stream",
     "text": [
      "Введите ФИО студента Петров Петр Петрович\n",
      "Введите новый номер группы студента 2\n",
      "Обновленные данные о студенте: ['Петров Петр Петрович', 18, '2']\n"
     ]
    }
   ],
   "source": [
    "change_group()"
   ]
  },
  {
   "cell_type": "code",
   "execution_count": null,
   "metadata": {},
   "outputs": [],
   "source": []
  }
 ],
 "metadata": {
  "kernelspec": {
   "display_name": "Python 3",
   "language": "python",
   "name": "python3"
  },
  "language_info": {
   "codemirror_mode": {
    "name": "ipython",
    "version": 3
   },
   "file_extension": ".py",
   "mimetype": "text/x-python",
   "name": "python",
   "nbconvert_exporter": "python",
   "pygments_lexer": "ipython3",
   "version": "3.6.5"
  }
 },
 "nbformat": 4,
 "nbformat_minor": 2
}
