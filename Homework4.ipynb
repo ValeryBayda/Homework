{
 "cells": [
  {
   "cell_type": "markdown",
   "metadata": {},
   "source": [
    "# Задание 1\n",
    "Напишите функцию date_range, которая возвращает список дней между датами start_date и end_date. Даты должны вводиться в формате YYYY-MM-DD."
   ]
  },
  {
   "cell_type": "code",
   "execution_count": 1,
   "metadata": {},
   "outputs": [],
   "source": [
    "from datetime import datetime, timedelta"
   ]
  },
  {
   "cell_type": "code",
   "execution_count": 2,
   "metadata": {},
   "outputs": [],
   "source": [
    "def date_range(start_date, end_date):\n",
    "    start_date_dt=datetime.strptime(start_date, '%Y-%m-%d')\n",
    "    end_date_dt=datetime.strptime(end_date, '%Y-%m-%d')\n",
    "    current_dt=start_date_dt\n",
    "    list_days=[]\n",
    "    while current_dt<=end_date_dt:\n",
    "        list_days+=[current_dt.strftime('%Y-%m-%d')]\n",
    "        current_dt+=timedelta(days=1)\n",
    "    return list_days"
   ]
  },
  {
   "cell_type": "code",
   "execution_count": 3,
   "metadata": {},
   "outputs": [
    {
     "data": {
      "text/plain": [
       "['2018-06-20',\n",
       " '2018-06-21',\n",
       " '2018-06-22',\n",
       " '2018-06-23',\n",
       " '2018-06-24',\n",
       " '2018-06-25',\n",
       " '2018-06-26',\n",
       " '2018-06-27',\n",
       " '2018-06-28',\n",
       " '2018-06-29',\n",
       " '2018-06-30']"
      ]
     },
     "execution_count": 3,
     "metadata": {},
     "output_type": "execute_result"
    }
   ],
   "source": [
    "date_range('2018-06-20', '2018-06-30')"
   ]
  },
  {
   "cell_type": "markdown",
   "metadata": {},
   "source": [
    "# Задание 2\n",
    "Дополните функцию из первого задания проверкой на корректность дат. В случае неверного формата или если start_date > end_date должен возвращаться пустой список."
   ]
  },
  {
   "cell_type": "code",
   "execution_count": 4,
   "metadata": {},
   "outputs": [],
   "source": [
    "def date_range_update(start_date, end_date):\n",
    "    list_days=[]\n",
    "    try:\n",
    "        start_date_dt=datetime.strptime(start_date, '%Y-%m-%d')\n",
    "        end_date_dt=datetime.strptime(end_date, '%Y-%m-%d')\n",
    "        current_dt=start_date_dt\n",
    "        if start_date_dt>end_date_dt:\n",
    "            return list_days\n",
    "    except:\n",
    "        return list_days\n",
    "    while current_dt<=end_date_dt:\n",
    "        list_days+=[current_dt.strftime('%Y-%m-%d')]\n",
    "        current_dt+=timedelta(days=1)\n",
    "    return list_days"
   ]
  },
  {
   "cell_type": "code",
   "execution_count": 5,
   "metadata": {},
   "outputs": [
    {
     "data": {
      "text/plain": [
       "[]"
      ]
     },
     "execution_count": 5,
     "metadata": {},
     "output_type": "execute_result"
    }
   ],
   "source": [
    "date_range_update('2018-06-30', '2018-06-20')"
   ]
  },
  {
   "cell_type": "code",
   "execution_count": 6,
   "metadata": {},
   "outputs": [
    {
     "data": {
      "text/plain": [
       "['2018-06-20']"
      ]
     },
     "execution_count": 6,
     "metadata": {},
     "output_type": "execute_result"
    }
   ],
   "source": [
    "date_range_update('2018-06-20', '2018-06-20')"
   ]
  },
  {
   "cell_type": "code",
   "execution_count": 7,
   "metadata": {},
   "outputs": [
    {
     "data": {
      "text/plain": [
       "['2018-06-20',\n",
       " '2018-06-21',\n",
       " '2018-06-22',\n",
       " '2018-06-23',\n",
       " '2018-06-24',\n",
       " '2018-06-25',\n",
       " '2018-06-26',\n",
       " '2018-06-27',\n",
       " '2018-06-28',\n",
       " '2018-06-29',\n",
       " '2018-06-30']"
      ]
     },
     "execution_count": 7,
     "metadata": {},
     "output_type": "execute_result"
    }
   ],
   "source": [
    "date_range_update('2018-06-20', '2018-06-30')"
   ]
  },
  {
   "cell_type": "markdown",
   "metadata": {},
   "source": [
    "# Задание 3\n",
    "Дан поток дат в формате YYYY-MM-DD, в которых встречаются некорректные значения:\n",
    "stream = ['2018-04-02', '2018-02-29', '2018-19-02']\n",
    "Напишите функцию, которая проверяет эти даты на корректность. Т. е. для каждой даты возвращает True (дата корректна) или False (некорректная дата)."
   ]
  },
  {
   "cell_type": "code",
   "execution_count": 8,
   "metadata": {},
   "outputs": [],
   "source": [
    "stream = ['2018-04-02', '2018-02-29', '2018-19-02'] "
   ]
  },
  {
   "cell_type": "code",
   "execution_count": 9,
   "metadata": {},
   "outputs": [],
   "source": [
    "def is_date_correct_true_or_false(list_dates):\n",
    "    list_dates_correct_true_or_false=[]\n",
    "    for date in list_dates:\n",
    "        try:\n",
    "            datetime.strptime(date, '%Y-%m-%d')\n",
    "            list_dates_correct_true_or_false+=[True]\n",
    "        except:\n",
    "            list_dates_correct_true_or_false+=[False]\n",
    "    return list_dates_correct_true_or_false"
   ]
  },
  {
   "cell_type": "code",
   "execution_count": 10,
   "metadata": {},
   "outputs": [
    {
     "data": {
      "text/plain": [
       "[True, False, False]"
      ]
     },
     "execution_count": 10,
     "metadata": {},
     "output_type": "execute_result"
    }
   ],
   "source": [
    "is_date_correct_true_or_false(stream)"
   ]
  },
  {
   "cell_type": "markdown",
   "metadata": {},
   "source": [
    "# Задание 4\n",
    "Напишите функцию, которая возвращает список дат с 1 по вчерашний день текущего месяца. Если дан 1 день месяца, то возвращается список дней прошлого месяца."
   ]
  },
  {
   "cell_type": "markdown",
   "metadata": {},
   "source": [
    "# Функция, которая берет текущую дату"
   ]
  },
  {
   "cell_type": "code",
   "execution_count": 11,
   "metadata": {},
   "outputs": [],
   "source": [
    "def list_dates_current():\n",
    "    list_dates=[]\n",
    "    end_date=datetime.today()-timedelta(days=1)\n",
    "    start_date=(datetime(end_date.year, end_date.month, 1))\n",
    "    for i in range((end_date-start_date).days+1):\n",
    "        list_dates+=[datetime.strftime(start_date+timedelta(days=i), '%Y-%m-%d')]\n",
    "    return list_dates   "
   ]
  },
  {
   "cell_type": "code",
   "execution_count": 12,
   "metadata": {},
   "outputs": [
    {
     "data": {
      "text/plain": [
       "['2018-09-01',\n",
       " '2018-09-02',\n",
       " '2018-09-03',\n",
       " '2018-09-04',\n",
       " '2018-09-05',\n",
       " '2018-09-06',\n",
       " '2018-09-07',\n",
       " '2018-09-08',\n",
       " '2018-09-09',\n",
       " '2018-09-10',\n",
       " '2018-09-11']"
      ]
     },
     "execution_count": 12,
     "metadata": {},
     "output_type": "execute_result"
    }
   ],
   "source": [
    "list_dates_current()"
   ]
  },
  {
   "cell_type": "markdown",
   "metadata": {},
   "source": [
    "# Функция, в которой мы задаем интересующую нас дату"
   ]
  },
  {
   "cell_type": "code",
   "execution_count": 13,
   "metadata": {},
   "outputs": [],
   "source": [
    "def list_dates(date):\n",
    "    list_dates=[]\n",
    "    end_date=datetime.strptime(date,'%Y-%m-%d' )-timedelta(days=1)\n",
    "    start_date=datetime(end_date.year, end_date.month, 1)\n",
    "    for i in range((end_date-start_date).days+1):\n",
    "        list_dates+=[datetime.strftime(start_date+timedelta(days=i), '%Y-%m-%d')]\n",
    "    return list_dates"
   ]
  },
  {
   "cell_type": "code",
   "execution_count": 14,
   "metadata": {},
   "outputs": [
    {
     "data": {
      "text/plain": [
       "['2017-12-01',\n",
       " '2017-12-02',\n",
       " '2017-12-03',\n",
       " '2017-12-04',\n",
       " '2017-12-05',\n",
       " '2017-12-06',\n",
       " '2017-12-07',\n",
       " '2017-12-08',\n",
       " '2017-12-09',\n",
       " '2017-12-10',\n",
       " '2017-12-11',\n",
       " '2017-12-12',\n",
       " '2017-12-13',\n",
       " '2017-12-14',\n",
       " '2017-12-15',\n",
       " '2017-12-16',\n",
       " '2017-12-17',\n",
       " '2017-12-18',\n",
       " '2017-12-19',\n",
       " '2017-12-20',\n",
       " '2017-12-21',\n",
       " '2017-12-22',\n",
       " '2017-12-23',\n",
       " '2017-12-24',\n",
       " '2017-12-25',\n",
       " '2017-12-26',\n",
       " '2017-12-27',\n",
       " '2017-12-28',\n",
       " '2017-12-29',\n",
       " '2017-12-30',\n",
       " '2017-12-31']"
      ]
     },
     "execution_count": 14,
     "metadata": {},
     "output_type": "execute_result"
    }
   ],
   "source": [
    "list_dates('2018-01-01')"
   ]
  },
  {
   "cell_type": "markdown",
   "metadata": {},
   "source": [
    "# Задание 5\n",
    "Напишите функцию, которая возвращает точную дату в формате YYYY-MM-DD по фразе:\n",
    "1. 'today' - сегодняшнюю дату\n",
    "2. 'last monday' -  прошлый понедельник\n",
    "3. 'last day' - Последний день текущего месяца"
   ]
  },
  {
   "cell_type": "code",
   "execution_count": 15,
   "metadata": {},
   "outputs": [],
   "source": [
    "def phrase_date(phrase):\n",
    "    if phrase=='today':\n",
    "        return datetime.strftime(datetime.today(), '%Y-%m-%d')\n",
    "    elif phrase=='last monday' :\n",
    "        #считаю, что прошлый понедельник-это тот понедельник, который был не на текущей неделе, а на прошлой\n",
    "        return datetime.strftime(datetime.today()-timedelta(days=7)-timedelta(days=datetime.today().weekday()), '%Y-%m-%d')\n",
    "    elif phrase=='last day':\n",
    "        return datetime.strftime(datetime(datetime.today().year, datetime.today().month+1, 1)-timedelta(days=1), '%Y-%m-%d')\n",
    "    else:\n",
    "        return print('Input correct phrase')\n",
    "    \n"
   ]
  },
  {
   "cell_type": "code",
   "execution_count": 16,
   "metadata": {},
   "outputs": [
    {
     "data": {
      "text/plain": [
       "'2018-09-12'"
      ]
     },
     "execution_count": 16,
     "metadata": {},
     "output_type": "execute_result"
    }
   ],
   "source": [
    "phrase_date('today')"
   ]
  },
  {
   "cell_type": "code",
   "execution_count": 17,
   "metadata": {},
   "outputs": [
    {
     "data": {
      "text/plain": [
       "'2018-09-03'"
      ]
     },
     "execution_count": 17,
     "metadata": {},
     "output_type": "execute_result"
    }
   ],
   "source": [
    "phrase_date('last monday')"
   ]
  },
  {
   "cell_type": "code",
   "execution_count": 18,
   "metadata": {},
   "outputs": [
    {
     "data": {
      "text/plain": [
       "'2018-09-30'"
      ]
     },
     "execution_count": 18,
     "metadata": {},
     "output_type": "execute_result"
    }
   ],
   "source": [
    "phrase_date('last day')"
   ]
  },
  {
   "cell_type": "code",
   "execution_count": 19,
   "metadata": {},
   "outputs": [
    {
     "name": "stdout",
     "output_type": "stream",
     "text": [
      "Input correct phrase\n"
     ]
    }
   ],
   "source": [
    "phrase_date('last friday')"
   ]
  },
  {
   "cell_type": "markdown",
   "metadata": {},
   "source": [
    "# Задание 6\n",
    "Напишите функцию, которая разбивает на недели с понедельника по воскресенье интервал дат между start_date и end_date. Считайте, что входные данные всегда корректны. В ответ должны входить только полные недели."
   ]
  },
  {
   "cell_type": "code",
   "execution_count": 20,
   "metadata": {},
   "outputs": [],
   "source": [
    "def split_on_weeks(start_date, end_date):\n",
    "    if (datetime.strptime(start_date, '%Y-%m-%d').weekday()==0):\n",
    "        start_date_datetime=datetime.strptime(start_date, '%Y-%m-%d')  \n",
    "    else:\n",
    "        start_date_datetime=datetime.strptime(start_date, '%Y-%m-%d')+timedelta(days=7)-timedelta(days=datetime.strptime(start_date, '%Y-%m-%d').weekday())\n",
    "    end_date_datetime=datetime.strptime(end_date, '%Y-%m-%d')-timedelta(days=datetime.strptime(end_date, '%Y-%m-%d').weekday())\n",
    "    list_dates_week=[]\n",
    "    for i in range(0,(end_date_datetime-start_date_datetime).days, 7):\n",
    "        list_dates_week+=[(datetime.strftime(start_date_datetime+timedelta(days=i), '%Y-%m-%d'), datetime.strftime(start_date_datetime+timedelta(days=i)+timedelta(days=6), '%Y-%m-%d'))]\n",
    "    return list_dates_week"
   ]
  },
  {
   "cell_type": "code",
   "execution_count": 21,
   "metadata": {},
   "outputs": [
    {
     "data": {
      "text/plain": [
       "[('2018-09-17', '2018-09-23'),\n",
       " ('2018-09-24', '2018-09-30'),\n",
       " ('2018-10-01', '2018-10-07'),\n",
       " ('2018-10-08', '2018-10-14')]"
      ]
     },
     "execution_count": 21,
     "metadata": {},
     "output_type": "execute_result"
    }
   ],
   "source": [
    "split_on_weeks('2018-09-12', '2018-10-20')"
   ]
  }
 ],
 "metadata": {
  "kernelspec": {
   "display_name": "Python 3",
   "language": "python",
   "name": "python3"
  },
  "language_info": {
   "codemirror_mode": {
    "name": "ipython",
    "version": 3
   },
   "file_extension": ".py",
   "mimetype": "text/x-python",
   "name": "python",
   "nbconvert_exporter": "python",
   "pygments_lexer": "ipython3",
   "version": "3.6.5"
  }
 },
 "nbformat": 4,
 "nbformat_minor": 2
}
